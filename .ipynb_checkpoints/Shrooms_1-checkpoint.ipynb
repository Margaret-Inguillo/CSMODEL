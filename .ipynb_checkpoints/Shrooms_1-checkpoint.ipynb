{
 "cells": [
  {
   "cell_type": "markdown",
   "id": "3d6dd8f0-0ef1-439c-89c6-c5a21ddde22d",
   "metadata": {},
   "source": [
    "# Mushroom Classification"
   ]
  },
  {
   "cell_type": "markdown",
   "id": "a76f200f-3114-459d-81d2-b2b8428b2d11",
   "metadata": {},
   "source": [
    "#### Group 7 Members: Tustin Choa, Margaret Inguillo, Ryan Villanueva"
   ]
  },
  {
   "cell_type": "markdown",
   "id": "6bac79ca-a11a-4112-85b1-3b0a5af10300",
   "metadata": {},
   "source": [
    "####"
   ]
  },
  {
   "cell_type": "markdown",
   "id": "6751ae00-2305-4371-8fc9-d90620e58183",
   "metadata": {},
   "source": [
    "## Dataset Representation"
   ]
  },
  {
   "cell_type": "code",
   "execution_count": 2,
   "id": "be0e535d",
   "metadata": {},
   "outputs": [],
   "source": [
    "import pandas as pd"
   ]
  },
  {
   "cell_type": "code",
   "execution_count": 7,
   "id": "e55aece5",
   "metadata": {},
   "outputs": [],
   "source": [
    "mush_df = pd.read_csv(\"mushrooms.csv\")"
   ]
  },
  {
   "cell_type": "code",
   "execution_count": 8,
   "id": "02593c6c",
   "metadata": {},
   "outputs": [
    {
     "name": "stdout",
     "output_type": "stream",
     "text": [
      "<class 'pandas.core.frame.DataFrame'>\n",
      "RangeIndex: 8124 entries, 0 to 8123\n",
      "Data columns (total 23 columns):\n",
      " #   Column                    Non-Null Count  Dtype \n",
      "---  ------                    --------------  ----- \n",
      " 0   class                     8124 non-null   object\n",
      " 1   cap-shape                 8124 non-null   object\n",
      " 2   cap-surface               8124 non-null   object\n",
      " 3   cap-color                 8124 non-null   object\n",
      " 4   bruises                   8124 non-null   object\n",
      " 5   odor                      8124 non-null   object\n",
      " 6   gill-attachment           8124 non-null   object\n",
      " 7   gill-spacing              8124 non-null   object\n",
      " 8   gill-size                 8124 non-null   object\n",
      " 9   gill-color                8124 non-null   object\n",
      " 10  stalk-shape               8124 non-null   object\n",
      " 11  stalk-root                8124 non-null   object\n",
      " 12  stalk-surface-above-ring  8124 non-null   object\n",
      " 13  stalk-surface-below-ring  8124 non-null   object\n",
      " 14  stalk-color-above-ring    8124 non-null   object\n",
      " 15  stalk-color-below-ring    8124 non-null   object\n",
      " 16  veil-type                 8124 non-null   object\n",
      " 17  veil-color                8124 non-null   object\n",
      " 18  ring-number               8124 non-null   object\n",
      " 19  ring-type                 8124 non-null   object\n",
      " 20  spore-print-color         8124 non-null   object\n",
      " 21  population                8124 non-null   object\n",
      " 22  habitat                   8124 non-null   object\n",
      "dtypes: object(23)\n",
      "memory usage: 1.4+ MB\n"
     ]
    }
   ],
   "source": [
    "mush_df.info()"
   ]
  },
  {
   "cell_type": "markdown",
   "id": "b276c9e9",
   "metadata": {},
   "source": [
    "**__Description__**                                                        \n",
    "This dataset has **23 variables and 8124 total observations**. It contains hypothetical mushroom samples from 23 species of the Agaricus and Lepiota Family. It was likely that the method of collecting the data was by **gathering, researching and observing known samples** as none of the variables require very precise measurements. Each observation has infomation about the: class, cap shape, cap surface, cap color, bruises, odor, gill attachment, gill spacing, gill size, gill color, stalk shape, stalk root, stalk surface above ring, stalk surface below ring, stalk color above ring, stalk color below ring, veil type, veil color, ring number, ring type, spore print color, population and habitat.    \n",
    "\n",
    "Below are the possible options per variable.\n",
    "\n",
    " **class:** Poisonous (p) or Non-poisonous/Edible (e) class.                    \n",
    " **cap-shape:** Bell (b), Conical (c), Convex (x), Flat (f), Knobbed (k), Sunken (s)              \n",
    " **cap-surface:** Fibrous (f), Grooves (g), Scaly (y), Smooth (s)                \n",
    " **cap-color:** Brown (n), Buff (b), Cinnamon (c), Gray (g), Green (r), Pink (p), Purple (u), Red (e), White (w), Yellow (y)   \n",
    " **bruises:** Bruised (t),Not Bruised (f)                    \n",
    " **odor:** Almond (a), Anise (l), Creosote (c), Fishy (y), Foul (f), Musty (m), Pungent (p), Spicy(s), None (n)       \n",
    " **gill-attachment:** Atached (a), Descending (d), Free (f), Notched (n)       \n",
    " **gill-spacing:** Close (c), Crowded (w), Distant (d)              \n",
    " **gill-size:** Broad (b), Narrow (n)                  \n",
    " **gill-color:** Brown (n), Buff (b), Cinnamon (c), Gray (g), Green (r), Pink (p), Purple (u), Red (e), White (w), Yellow (y)   \n",
    " **stalk-shape:** Enlarging (e), Tapering (t)                                        \n",
    " **stalk-root:** Bulbous (b), Club (c), Cup (u), Equal (e), Rhizomorphs (z), Rooted (r), Missing (?)  \n",
    " **stalk-surface-above-ring:** Fibrous (f), Scaly (y), Silky (k), Smooth (s)  \n",
    " **stalk-surface-below-ring:** Fibrous (f), Scaly (y), Silky (k), Smooth (s)                     \n",
    " **stalk-color-above-ring:** Brown (n), Buff (b), Cinnamon (c), Gray (g), Green (r), Pink (p), Purple (u), Red (e), White (w), \n",
    "                     Yellow (y)     \n",
    " **stalk-color-below-ring:** Brown (n), Buff (b), Cinnamon (c), Gray (g), Green (r), Pink (p), Purple (u), Red (e), White (w), \n",
    "                     Yellow (y)     \n",
    " **veil-type:** Partial (p), Universal (u)                  \n",
    " **veil-color:** Brown (n), Orange (o), White (w), Yellow (y)                 \n",
    " **ring-number:** None (n), One (o), Two (t)                \n",
    " **ring-type:** Cobwebby (c), Evanescent (e), Flaring (f), Large (l), None (n), Pendant (p), Sheathing(s), Zone (z)                  \n",
    " **spore-print-color:** Black (k), Brown (n), Buff (b), Chocolate (h), Green (r), Orange (o), Purple (u), White (w), Yellow (y)          \n",
    " **population:** Abundant (a), Clustered (c), Numerous (n), Scattered (s), Several (v), Solitary (y)                 \n",
    " **habitat:** Grasses (g), Leaves (l), Meadows (m), Paths (p), Urban (u), Waste (w), Woods (d)     "
   ]
  },
  {
   "cell_type": "markdown",
   "id": "e3fe9fbe",
   "metadata": {},
   "source": [
    "Source: https://datascienceplus.com/mushrooms-classification-part-1/"
   ]
  },
  {
   "cell_type": "markdown",
   "id": "5ad0e7a6-ada0-4dc6-9e88-a296baafef45",
   "metadata": {},
   "source": [
    "## Data Cleaning"
   ]
  },
  {
   "cell_type": "markdown",
   "id": "cf83c485-8e79-472d-8a11-c1847ccf7d19",
   "metadata": {},
   "source": [
    "## Exploratory Data Analysis"
   ]
  },
  {
   "cell_type": "markdown",
   "id": "7991b2cb-0371-452f-88b0-01843288f749",
   "metadata": {},
   "source": [
    "## Research Question"
   ]
  },
  {
   "cell_type": "markdown",
   "id": "e1732ba6-16da-4ccc-a2d7-87e4c4c7f63f",
   "metadata": {},
   "source": [
    "## Statistical Inference"
   ]
  },
  {
   "cell_type": "markdown",
   "id": "0672b218-6e8c-4aba-970f-e355590399c5",
   "metadata": {},
   "source": [
    "## Insights and Conclusions"
   ]
  }
 ],
 "metadata": {
  "kernelspec": {
   "display_name": "Python 3",
   "language": "python",
   "name": "python3"
  },
  "language_info": {
   "codemirror_mode": {
    "name": "ipython",
    "version": 3
   },
   "file_extension": ".py",
   "mimetype": "text/x-python",
   "name": "python",
   "nbconvert_exporter": "python",
   "pygments_lexer": "ipython3",
   "version": "3.8.5"
  }
 },
 "nbformat": 4,
 "nbformat_minor": 5
}
