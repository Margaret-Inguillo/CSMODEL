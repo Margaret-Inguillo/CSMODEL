{
 "cells": [
  {
   "cell_type": "markdown",
   "id": "39ae123a",
   "metadata": {},
   "source": [
    "#### Group 7 Members: Tustin Choa, Margaret Inguillo, Ryan Villanueva"
   ]
  },
  {
   "cell_type": "code",
   "execution_count": 2,
   "id": "5adec5e0",
   "metadata": {},
   "outputs": [],
   "source": [
    "import pandas as pd\n",
    "import matplotlib.pyplot as plt\n",
    "import numpy as np\n",
    "import seaborn as sns"
   ]
  },
  {
   "cell_type": "code",
   "execution_count": 4,
   "id": "3bb5f322",
   "metadata": {},
   "outputs": [],
   "source": [
    "stats_df = pd.read_csv(\"marketing_campaign.csv\")"
   ]
  },
  {
   "cell_type": "code",
   "execution_count": 7,
   "id": "bcbe4e19",
   "metadata": {},
   "outputs": [
    {
     "name": "stdout",
     "output_type": "stream",
     "text": [
      "<class 'pandas.core.frame.DataFrame'>\n",
      "RangeIndex: 2240 entries, 0 to 2239\n",
      "Data columns (total 1 columns):\n",
      " #   Column                                                                                                                                                                                                                                                                                                                                                                    Non-Null Count  Dtype \n",
      "---  ------                                                                                                                                                                                                                                                                                                                                                                    --------------  ----- \n",
      " 0   ID\tYear_Birth\tEducation\tMarital_Status\tIncome\tKidhome\tTeenhome\tDt_Customer\tRecency\tMntWines\tMntFruits\tMntMeatProducts\tMntFishProducts\tMntSweetProducts\tMntGoldProds\tNumDealsPurchases\tNumWebPurchases\tNumCatalogPurchases\tNumStorePurchases\tNumWebVisitsMonth\tAcceptedCmp3\tAcceptedCmp4\tAcceptedCmp5\tAcceptedCmp1\tAcceptedCmp2\tComplain\tZ_CostContact\tZ_Revenue\tResponse  2240 non-null   object\n",
      "dtypes: object(1)\n",
      "memory usage: 17.6+ KB\n"
     ]
    }
   ],
   "source": [
    "stats_df.info()"
   ]
  },
  {
   "cell_type": "markdown",
   "id": "ac4127c9",
   "metadata": {},
   "source": [
    "This dataset is about customer personality types. It contains 2240 observations and 29 variables. Those variables are grouped into 4 major categories: People, products, promotion, and place. This was created in order to help companies create products that may be sold to a certain group of people with similar traits. It was likely that the information was gathered through the company's website in the form of cookies, as well as, through membership data. \n",
    "\n",
    "Listed below are the variables per category and their interpretation:                           \n",
    "**People**                                   \n",
    "ID: Unique number assigned to every customer                               \n",
    "Year_Birth: Customer's year of birth                                   \n",
    "Education: Customer's education attainment                             \n",
    "Marital_Status: Customer's marital status                                \n",
    "Income: Customer's yearly income                                  \n",
    "Kidhome: Number of children a customer has                                                       \n",
    "Teenhome: How many of the children are teenagers                            \n",
    "Dt_Customer: Customer's date of enrollment at the company                     \n",
    "Recency: Number of days since customer's last purchase                                \n",
    "Complain: 1 if a complain was made by the customer in the last 2 years , 0 otherwise                      \n",
    "\n",
    "**Products**                                                            \n",
    "MntWines: Expenses on wine in the last 2 years                 \n",
    "MntFruits: Expenses on fruits in the last 2 years                                    \n",
    "MntMeatProducts: Expenses on meat in the last 2 years                                   \n",
    "MntFishProducts: Expenses on fish in the last 2 years                                           \n",
    "MntSweetProducts: Expenses on sweets the in last 2 years                            \n",
    "MntGoldProds: Expenses on gold in the last 2 years                       \n",
    "\n",
    "**Promotion**                                     \n",
    "NumDealsPurchases: The number of discounted purchases\n",
    "AcceptedCmp1: 1 if customer bought an offer in the 1st campaign, 0 otherwise                    \n",
    "AcceptedCmp2: 1 if customer bought an offer in the 2nd campaign, 0 otherwise                     \n",
    "AcceptedCmp3: 1 if customer bought an offer in the 3rd campaign, 0 otherwise                     \n",
    "AcceptedCmp4: 1 if customer bought an offer in the 4th campaign, 0 otherwise                              \n",
    "AcceptedCmp5: 1 if customer bought an offer in the 5th campaign, 0 otherwise                             \n",
    "Response: 1 if customer bought an offer in the 6th campaign, 0 otherwise                     \n",
    "\n",
    "**Place**                                          \n",
    "NumWebPurchases: The number of online purchases                                    \n",
    "NumCatalogPurchases: The number of purchases through a catalogue                               \n",
    "NumStorePurchases: The number of purchases made directly in stores                             \n",
    "NumWebVisitsMonth: The number of visits to company’s web site in the last month                              "
   ]
  },
  {
   "cell_type": "code",
   "execution_count": null,
   "id": "f4a0ed23",
   "metadata": {},
   "outputs": [],
   "source": []
  }
 ],
 "metadata": {
  "kernelspec": {
   "display_name": "Python 3",
   "language": "python",
   "name": "python3"
  },
  "language_info": {
   "codemirror_mode": {
    "name": "ipython",
    "version": 3
   },
   "file_extension": ".py",
   "mimetype": "text/x-python",
   "name": "python",
   "nbconvert_exporter": "python",
   "pygments_lexer": "ipython3",
   "version": "3.8.8"
  }
 },
 "nbformat": 4,
 "nbformat_minor": 5
}
