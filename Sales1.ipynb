{
 "cells": [
  {
   "cell_type": "markdown",
   "id": "f342c6b6-1b2e-4e71-8a6c-db7e3821a582",
   "metadata": {},
   "source": [
    "# Customer Personality Analysis"
   ]
  },
  {
   "cell_type": "markdown",
   "id": "5bf5fbe7",
   "metadata": {},
   "source": [
    "#### Group 7 Members: Tustin Choa, Margaret Inguillo, Ryan Villanueva"
   ]
  },
  {
   "cell_type": "markdown",
   "id": "ff6139ed",
   "metadata": {},
   "source": [
    "## Notebook Setting Up"
   ]
  },
  {
   "cell_type": "code",
   "execution_count": 1,
   "id": "975b7b29",
   "metadata": {},
   "outputs": [],
   "source": [
    "import pandas as pd\n",
    "import matplotlib.pyplot as plt\n",
    "import numpy as np\n",
    "import seaborn as sns"
   ]
  },
  {
   "cell_type": "code",
   "execution_count": 2,
   "id": "1a9506ca",
   "metadata": {},
   "outputs": [],
   "source": [
    "stats_df = pd.read_csv(\"marketing_campaign.csv\", sep=\"\\t\")"
   ]
  },
  {
   "cell_type": "markdown",
   "id": "2292789f-cb73-4cc2-bdd3-b8c797b90d94",
   "metadata": {},
   "source": [
    "## Data Representation"
   ]
  },
  {
   "cell_type": "code",
   "execution_count": 3,
   "id": "ae8f956f",
   "metadata": {},
   "outputs": [
    {
     "name": "stdout",
     "output_type": "stream",
     "text": [
      "<class 'pandas.core.frame.DataFrame'>\n",
      "RangeIndex: 2240 entries, 0 to 2239\n",
      "Data columns (total 29 columns):\n",
      " #   Column               Non-Null Count  Dtype  \n",
      "---  ------               --------------  -----  \n",
      " 0   ID                   2240 non-null   int64  \n",
      " 1   Year_Birth           2240 non-null   int64  \n",
      " 2   Education            2240 non-null   object \n",
      " 3   Marital_Status       2240 non-null   object \n",
      " 4   Income               2216 non-null   float64\n",
      " 5   Kidhome              2240 non-null   int64  \n",
      " 6   Teenhome             2240 non-null   int64  \n",
      " 7   Dt_Customer          2240 non-null   object \n",
      " 8   Recency              2240 non-null   int64  \n",
      " 9   MntWines             2240 non-null   int64  \n",
      " 10  MntFruits            2240 non-null   int64  \n",
      " 11  MntMeatProducts      2240 non-null   int64  \n",
      " 12  MntFishProducts      2240 non-null   int64  \n",
      " 13  MntSweetProducts     2240 non-null   int64  \n",
      " 14  MntGoldProds         2240 non-null   int64  \n",
      " 15  NumDealsPurchases    2240 non-null   int64  \n",
      " 16  NumWebPurchases      2240 non-null   int64  \n",
      " 17  NumCatalogPurchases  2240 non-null   int64  \n",
      " 18  NumStorePurchases    2240 non-null   int64  \n",
      " 19  NumWebVisitsMonth    2240 non-null   int64  \n",
      " 20  AcceptedCmp3         2240 non-null   int64  \n",
      " 21  AcceptedCmp4         2240 non-null   int64  \n",
      " 22  AcceptedCmp5         2240 non-null   int64  \n",
      " 23  AcceptedCmp1         2240 non-null   int64  \n",
      " 24  AcceptedCmp2         2240 non-null   int64  \n",
      " 25  Complain             2240 non-null   int64  \n",
      " 26  Z_CostContact        2240 non-null   int64  \n",
      " 27  Z_Revenue            2240 non-null   int64  \n",
      " 28  Response             2240 non-null   int64  \n",
      "dtypes: float64(1), int64(25), object(3)\n",
      "memory usage: 507.6+ KB\n"
     ]
    }
   ],
   "source": [
    "stats_df.info()"
   ]
  },
  {
   "cell_type": "markdown",
   "id": "00ac7388",
   "metadata": {},
   "source": [
    "This dataset is about customer personality types. It contains 2240 observations and 29 variables. These variables are grouped into 4 major categories: People, products, promotion, and place. The dataset was created in order to help companies create products that may be sold to a certain group of people with similar traits. It was likely that the information was gathered through the company's website in the form of cookies, as well as, through membership data. \n",
    "\n",
    "Listed below are the variables per category and their interpretation:                           \n",
    "**People**                                   \n",
    "ID: Unique number assigned to every customer                               \n",
    "Year_Birth: Customer's year of birth                                   \n",
    "Education: Customer's education attainment                             \n",
    "Marital_Status: Customer's marital status                                \n",
    "Income: Customer's yearly income                                  \n",
    "Kidhome: Number of children a customer has                                                       \n",
    "Teenhome: How many of the children are teenagers                            \n",
    "Dt_Customer: Customer's date of enrollment at the company                     \n",
    "Recency: Number of days since customer's last purchase                                \n",
    "Complain: 1 if a complain was made by the customer in the last 2 years , 0 otherwise                      \n",
    "\n",
    "**Products**                                                            \n",
    "MntWines: Expenses on wine in the last 2 years                 \n",
    "MntFruits: Expenses on fruits in the last 2 years                                    \n",
    "MntMeatProducts: Expenses on meat in the last 2 years                                   \n",
    "MntFishProducts: Expenses on fish in the last 2 years                                           \n",
    "MntSweetProducts: Expenses on sweets the in last 2 years                            \n",
    "MntGoldProds: Expenses on gold in the last 2 years                       \n",
    "\n",
    "**Promotion**                                     \n",
    "NumDealsPurchases: The number of discounted purchases\n",
    "AcceptedCmp1: 1 if customer bought an offer in the 1st campaign, 0 otherwise                    \n",
    "AcceptedCmp2: 1 if customer bought an offer in the 2nd campaign, 0 otherwise                     \n",
    "AcceptedCmp3: 1 if customer bought an offer in the 3rd campaign, 0 otherwise                     \n",
    "AcceptedCmp4: 1 if customer bought an offer in the 4th campaign, 0 otherwise                              \n",
    "AcceptedCmp5: 1 if customer bought an offer in the 5th campaign, 0 otherwise                             \n",
    "Response: 1 if customer bought an offer in the 6th campaign, 0 otherwise                     \n",
    "\n",
    "**Place**                                          \n",
    "NumWebPurchases: The number of online purchases                                    \n",
    "NumCatalogPurchases: The number of purchases through a catalogue                               \n",
    "NumStorePurchases: The number of purchases made directly in stores                             \n",
    "NumWebVisitsMonth: The number of visits to company’s web site in the last month \n",
    " "
   ]
  },
  {
   "cell_type": "markdown",
   "id": "d132bfa7-da88-43d0-948d-0184b2fbb86c",
   "metadata": {},
   "source": [
    "## Data Cleaning"
   ]
  },
  {
   "cell_type": "markdown",
   "id": "50e52e1f",
   "metadata": {},
   "source": [
    "A sample size of 100 random observations was taken from the 2240 total observations for this study"
   ]
  },
  {
   "cell_type": "code",
   "execution_count": 4,
   "id": "0848514a",
   "metadata": {},
   "outputs": [],
   "source": [
    "n = 100 # sample size\n",
    "sample_stats_df = stats_df.sample(n, random_state=8)"
   ]
  },
  {
   "cell_type": "markdown",
   "id": "b5e5e5e3",
   "metadata": {},
   "source": [
    "Missing values were checked for and none were found"
   ]
  },
  {
   "cell_type": "code",
   "execution_count": 5,
   "id": "d6ce380a",
   "metadata": {},
   "outputs": [
    {
     "data": {
      "text/plain": [
       "ID                     False\n",
       "Year_Birth             False\n",
       "Education              False\n",
       "Marital_Status         False\n",
       "Income                 False\n",
       "Kidhome                False\n",
       "Teenhome               False\n",
       "Dt_Customer            False\n",
       "Recency                False\n",
       "MntWines               False\n",
       "MntFruits              False\n",
       "MntMeatProducts        False\n",
       "MntFishProducts        False\n",
       "MntSweetProducts       False\n",
       "MntGoldProds           False\n",
       "NumDealsPurchases      False\n",
       "NumWebPurchases        False\n",
       "NumCatalogPurchases    False\n",
       "NumStorePurchases      False\n",
       "NumWebVisitsMonth      False\n",
       "AcceptedCmp3           False\n",
       "AcceptedCmp4           False\n",
       "AcceptedCmp5           False\n",
       "AcceptedCmp1           False\n",
       "AcceptedCmp2           False\n",
       "Complain               False\n",
       "Z_CostContact          False\n",
       "Z_Revenue              False\n",
       "Response               False\n",
       "dtype: bool"
      ]
     },
     "execution_count": 5,
     "metadata": {},
     "output_type": "execute_result"
    }
   ],
   "source": [
    "sample_stats_df.isnull().any()"
   ]
  },
  {
   "cell_type": "markdown",
   "id": "a4683efe",
   "metadata": {},
   "source": [
    "Dropping variables that won't be used for this notebook"
   ]
  },
  {
   "cell_type": "code",
   "execution_count": 6,
   "id": "13abdd8e",
   "metadata": {},
   "outputs": [],
   "source": [
    "sample_stats_df = sample_stats_df.loc[:, ~sample_stats_df.columns.isin(['Z_Revenue', 'Z_CostContact', 'MntGoldProds'])]"
   ]
  },
  {
   "cell_type": "markdown",
   "id": "dfa02382",
   "metadata": {},
   "source": [
    "Checking for inconsistencies in data"
   ]
  },
  {
   "cell_type": "code",
   "execution_count": 7,
   "id": "f9957cb2-114a-4518-af1d-f46b80a603d5",
   "metadata": {},
   "outputs": [
    {
     "data": {
      "text/plain": [
       "array(['2n Cycle', 'Master', 'Graduation', 'PhD', 'Basic'], dtype=object)"
      ]
     },
     "execution_count": 7,
     "metadata": {},
     "output_type": "execute_result"
    }
   ],
   "source": [
    "sample_stats_df[\"Education\"].unique()"
   ]
  },
  {
   "cell_type": "code",
   "execution_count": 8,
   "id": "6cebd66b-efe4-471e-90e1-3f65a3237e07",
   "metadata": {},
   "outputs": [
    {
     "data": {
      "text/plain": [
       "array(['Married', 'Together', 'Single', 'Divorced', 'Widow'], dtype=object)"
      ]
     },
     "execution_count": 8,
     "metadata": {},
     "output_type": "execute_result"
    }
   ],
   "source": [
    "sample_stats_df[\"Marital_Status\"].unique()"
   ]
  },
  {
   "cell_type": "markdown",
   "id": "87c91b8d-58a0-4401-a679-90d69dbe24ab",
   "metadata": {},
   "source": [
    "## Exploratory Data Analysis"
   ]
  },
  {
   "cell_type": "markdown",
   "id": "cdd23cfe",
   "metadata": {},
   "source": [
    "Shows the first 10 observations from the dataset"
   ]
  },
  {
   "cell_type": "code",
   "execution_count": 9,
   "id": "956143d6-5dc5-45c0-ae42-22d724af80bd",
   "metadata": {
    "scrolled": true
   },
   "outputs": [
    {
     "data": {
      "text/html": [
       "<div>\n",
       "<style scoped>\n",
       "    .dataframe tbody tr th:only-of-type {\n",
       "        vertical-align: middle;\n",
       "    }\n",
       "\n",
       "    .dataframe tbody tr th {\n",
       "        vertical-align: top;\n",
       "    }\n",
       "\n",
       "    .dataframe thead th {\n",
       "        text-align: right;\n",
       "    }\n",
       "</style>\n",
       "<table border=\"1\" class=\"dataframe\">\n",
       "  <thead>\n",
       "    <tr style=\"text-align: right;\">\n",
       "      <th></th>\n",
       "      <th>ID</th>\n",
       "      <th>Year_Birth</th>\n",
       "      <th>Education</th>\n",
       "      <th>Marital_Status</th>\n",
       "      <th>Income</th>\n",
       "      <th>Kidhome</th>\n",
       "      <th>Teenhome</th>\n",
       "      <th>Dt_Customer</th>\n",
       "      <th>Recency</th>\n",
       "      <th>MntWines</th>\n",
       "      <th>...</th>\n",
       "      <th>NumCatalogPurchases</th>\n",
       "      <th>NumStorePurchases</th>\n",
       "      <th>NumWebVisitsMonth</th>\n",
       "      <th>AcceptedCmp3</th>\n",
       "      <th>AcceptedCmp4</th>\n",
       "      <th>AcceptedCmp5</th>\n",
       "      <th>AcceptedCmp1</th>\n",
       "      <th>AcceptedCmp2</th>\n",
       "      <th>Complain</th>\n",
       "      <th>Response</th>\n",
       "    </tr>\n",
       "  </thead>\n",
       "  <tbody>\n",
       "    <tr>\n",
       "      <th>1317</th>\n",
       "      <td>4937</td>\n",
       "      <td>1973</td>\n",
       "      <td>2n Cycle</td>\n",
       "      <td>Married</td>\n",
       "      <td>46094.0</td>\n",
       "      <td>1</td>\n",
       "      <td>1</td>\n",
       "      <td>10-06-2014</td>\n",
       "      <td>62</td>\n",
       "      <td>12</td>\n",
       "      <td>...</td>\n",
       "      <td>0</td>\n",
       "      <td>3</td>\n",
       "      <td>7</td>\n",
       "      <td>0</td>\n",
       "      <td>0</td>\n",
       "      <td>0</td>\n",
       "      <td>0</td>\n",
       "      <td>0</td>\n",
       "      <td>0</td>\n",
       "      <td>0</td>\n",
       "    </tr>\n",
       "    <tr>\n",
       "      <th>1175</th>\n",
       "      <td>1604</td>\n",
       "      <td>1960</td>\n",
       "      <td>Master</td>\n",
       "      <td>Married</td>\n",
       "      <td>47353.0</td>\n",
       "      <td>0</td>\n",
       "      <td>1</td>\n",
       "      <td>13-11-2013</td>\n",
       "      <td>93</td>\n",
       "      <td>184</td>\n",
       "      <td>...</td>\n",
       "      <td>2</td>\n",
       "      <td>6</td>\n",
       "      <td>5</td>\n",
       "      <td>0</td>\n",
       "      <td>0</td>\n",
       "      <td>0</td>\n",
       "      <td>0</td>\n",
       "      <td>0</td>\n",
       "      <td>0</td>\n",
       "      <td>0</td>\n",
       "    </tr>\n",
       "    <tr>\n",
       "      <th>1451</th>\n",
       "      <td>6652</td>\n",
       "      <td>1965</td>\n",
       "      <td>Graduation</td>\n",
       "      <td>Married</td>\n",
       "      <td>77343.0</td>\n",
       "      <td>0</td>\n",
       "      <td>0</td>\n",
       "      <td>09-06-2014</td>\n",
       "      <td>28</td>\n",
       "      <td>227</td>\n",
       "      <td>...</td>\n",
       "      <td>4</td>\n",
       "      <td>9</td>\n",
       "      <td>1</td>\n",
       "      <td>0</td>\n",
       "      <td>0</td>\n",
       "      <td>0</td>\n",
       "      <td>0</td>\n",
       "      <td>0</td>\n",
       "      <td>0</td>\n",
       "      <td>0</td>\n",
       "    </tr>\n",
       "    <tr>\n",
       "      <th>1010</th>\n",
       "      <td>5236</td>\n",
       "      <td>1979</td>\n",
       "      <td>Graduation</td>\n",
       "      <td>Together</td>\n",
       "      <td>77568.0</td>\n",
       "      <td>0</td>\n",
       "      <td>1</td>\n",
       "      <td>25-08-2012</td>\n",
       "      <td>30</td>\n",
       "      <td>1230</td>\n",
       "      <td>...</td>\n",
       "      <td>2</td>\n",
       "      <td>8</td>\n",
       "      <td>5</td>\n",
       "      <td>0</td>\n",
       "      <td>1</td>\n",
       "      <td>1</td>\n",
       "      <td>1</td>\n",
       "      <td>0</td>\n",
       "      <td>0</td>\n",
       "      <td>0</td>\n",
       "    </tr>\n",
       "    <tr>\n",
       "      <th>2158</th>\n",
       "      <td>5186</td>\n",
       "      <td>1955</td>\n",
       "      <td>PhD</td>\n",
       "      <td>Married</td>\n",
       "      <td>58482.0</td>\n",
       "      <td>0</td>\n",
       "      <td>1</td>\n",
       "      <td>12-03-2014</td>\n",
       "      <td>59</td>\n",
       "      <td>576</td>\n",
       "      <td>...</td>\n",
       "      <td>4</td>\n",
       "      <td>9</td>\n",
       "      <td>6</td>\n",
       "      <td>0</td>\n",
       "      <td>1</td>\n",
       "      <td>0</td>\n",
       "      <td>0</td>\n",
       "      <td>0</td>\n",
       "      <td>0</td>\n",
       "      <td>0</td>\n",
       "    </tr>\n",
       "    <tr>\n",
       "      <th>1757</th>\n",
       "      <td>3524</td>\n",
       "      <td>1971</td>\n",
       "      <td>Master</td>\n",
       "      <td>Single</td>\n",
       "      <td>39763.0</td>\n",
       "      <td>1</td>\n",
       "      <td>0</td>\n",
       "      <td>04-08-2013</td>\n",
       "      <td>9</td>\n",
       "      <td>80</td>\n",
       "      <td>...</td>\n",
       "      <td>1</td>\n",
       "      <td>2</td>\n",
       "      <td>9</td>\n",
       "      <td>0</td>\n",
       "      <td>0</td>\n",
       "      <td>0</td>\n",
       "      <td>0</td>\n",
       "      <td>0</td>\n",
       "      <td>0</td>\n",
       "      <td>1</td>\n",
       "    </tr>\n",
       "    <tr>\n",
       "      <th>463</th>\n",
       "      <td>7059</td>\n",
       "      <td>1963</td>\n",
       "      <td>Graduation</td>\n",
       "      <td>Married</td>\n",
       "      <td>80124.0</td>\n",
       "      <td>0</td>\n",
       "      <td>0</td>\n",
       "      <td>26-06-2014</td>\n",
       "      <td>47</td>\n",
       "      <td>483</td>\n",
       "      <td>...</td>\n",
       "      <td>7</td>\n",
       "      <td>8</td>\n",
       "      <td>1</td>\n",
       "      <td>1</td>\n",
       "      <td>0</td>\n",
       "      <td>0</td>\n",
       "      <td>0</td>\n",
       "      <td>0</td>\n",
       "      <td>0</td>\n",
       "      <td>0</td>\n",
       "    </tr>\n",
       "    <tr>\n",
       "      <th>1271</th>\n",
       "      <td>7488</td>\n",
       "      <td>1963</td>\n",
       "      <td>Master</td>\n",
       "      <td>Single</td>\n",
       "      <td>64191.0</td>\n",
       "      <td>0</td>\n",
       "      <td>1</td>\n",
       "      <td>22-01-2013</td>\n",
       "      <td>30</td>\n",
       "      <td>420</td>\n",
       "      <td>...</td>\n",
       "      <td>3</td>\n",
       "      <td>13</td>\n",
       "      <td>3</td>\n",
       "      <td>0</td>\n",
       "      <td>0</td>\n",
       "      <td>0</td>\n",
       "      <td>0</td>\n",
       "      <td>0</td>\n",
       "      <td>0</td>\n",
       "      <td>0</td>\n",
       "    </tr>\n",
       "    <tr>\n",
       "      <th>408</th>\n",
       "      <td>5049</td>\n",
       "      <td>1974</td>\n",
       "      <td>PhD</td>\n",
       "      <td>Together</td>\n",
       "      <td>30351.0</td>\n",
       "      <td>1</td>\n",
       "      <td>0</td>\n",
       "      <td>06-06-2013</td>\n",
       "      <td>19</td>\n",
       "      <td>14</td>\n",
       "      <td>...</td>\n",
       "      <td>0</td>\n",
       "      <td>2</td>\n",
       "      <td>9</td>\n",
       "      <td>0</td>\n",
       "      <td>0</td>\n",
       "      <td>0</td>\n",
       "      <td>0</td>\n",
       "      <td>0</td>\n",
       "      <td>0</td>\n",
       "      <td>0</td>\n",
       "    </tr>\n",
       "    <tr>\n",
       "      <th>956</th>\n",
       "      <td>5748</td>\n",
       "      <td>1965</td>\n",
       "      <td>Graduation</td>\n",
       "      <td>Married</td>\n",
       "      <td>59754.0</td>\n",
       "      <td>0</td>\n",
       "      <td>1</td>\n",
       "      <td>01-12-2012</td>\n",
       "      <td>96</td>\n",
       "      <td>115</td>\n",
       "      <td>...</td>\n",
       "      <td>2</td>\n",
       "      <td>6</td>\n",
       "      <td>5</td>\n",
       "      <td>0</td>\n",
       "      <td>0</td>\n",
       "      <td>0</td>\n",
       "      <td>0</td>\n",
       "      <td>0</td>\n",
       "      <td>0</td>\n",
       "      <td>1</td>\n",
       "    </tr>\n",
       "  </tbody>\n",
       "</table>\n",
       "<p>10 rows × 26 columns</p>\n",
       "</div>"
      ],
      "text/plain": [
       "        ID  Year_Birth   Education Marital_Status   Income  Kidhome  Teenhome  \\\n",
       "1317  4937        1973    2n Cycle        Married  46094.0        1         1   \n",
       "1175  1604        1960      Master        Married  47353.0        0         1   \n",
       "1451  6652        1965  Graduation        Married  77343.0        0         0   \n",
       "1010  5236        1979  Graduation       Together  77568.0        0         1   \n",
       "2158  5186        1955         PhD        Married  58482.0        0         1   \n",
       "1757  3524        1971      Master         Single  39763.0        1         0   \n",
       "463   7059        1963  Graduation        Married  80124.0        0         0   \n",
       "1271  7488        1963      Master         Single  64191.0        0         1   \n",
       "408   5049        1974         PhD       Together  30351.0        1         0   \n",
       "956   5748        1965  Graduation        Married  59754.0        0         1   \n",
       "\n",
       "     Dt_Customer  Recency  MntWines  ...  NumCatalogPurchases  \\\n",
       "1317  10-06-2014       62        12  ...                    0   \n",
       "1175  13-11-2013       93       184  ...                    2   \n",
       "1451  09-06-2014       28       227  ...                    4   \n",
       "1010  25-08-2012       30      1230  ...                    2   \n",
       "2158  12-03-2014       59       576  ...                    4   \n",
       "1757  04-08-2013        9        80  ...                    1   \n",
       "463   26-06-2014       47       483  ...                    7   \n",
       "1271  22-01-2013       30       420  ...                    3   \n",
       "408   06-06-2013       19        14  ...                    0   \n",
       "956   01-12-2012       96       115  ...                    2   \n",
       "\n",
       "      NumStorePurchases  NumWebVisitsMonth  AcceptedCmp3  AcceptedCmp4  \\\n",
       "1317                  3                  7             0             0   \n",
       "1175                  6                  5             0             0   \n",
       "1451                  9                  1             0             0   \n",
       "1010                  8                  5             0             1   \n",
       "2158                  9                  6             0             1   \n",
       "1757                  2                  9             0             0   \n",
       "463                   8                  1             1             0   \n",
       "1271                 13                  3             0             0   \n",
       "408                   2                  9             0             0   \n",
       "956                   6                  5             0             0   \n",
       "\n",
       "      AcceptedCmp5  AcceptedCmp1  AcceptedCmp2  Complain  Response  \n",
       "1317             0             0             0         0         0  \n",
       "1175             0             0             0         0         0  \n",
       "1451             0             0             0         0         0  \n",
       "1010             1             1             0         0         0  \n",
       "2158             0             0             0         0         0  \n",
       "1757             0             0             0         0         1  \n",
       "463              0             0             0         0         0  \n",
       "1271             0             0             0         0         0  \n",
       "408              0             0             0         0         0  \n",
       "956              0             0             0         0         1  \n",
       "\n",
       "[10 rows x 26 columns]"
      ]
     },
     "execution_count": 9,
     "metadata": {},
     "output_type": "execute_result"
    }
   ],
   "source": [
    "sample_stats_df.head(10)"
   ]
  },
  {
   "cell_type": "markdown",
   "id": "2b146922",
   "metadata": {},
   "source": [
    "### Education"
   ]
  },
  {
   "cell_type": "markdown",
   "id": "576c9973",
   "metadata": {},
   "source": [
    "\n",
    "Categorizes people by their educational attainment\n"
   ]
  },
  {
   "cell_type": "code",
   "execution_count": 10,
   "id": "fb555c8a-2aa6-4c90-b130-6f94c5de65bb",
   "metadata": {},
   "outputs": [
    {
     "data": {
      "text/plain": [
       "Education\n",
       "2n Cycle       7\n",
       "Basic          5\n",
       "Graduation    49\n",
       "Master        15\n",
       "PhD           24\n",
       "Name: ID, dtype: int64"
      ]
     },
     "execution_count": 10,
     "metadata": {},
     "output_type": "execute_result"
    }
   ],
   "source": [
    "edu_group_count = sample_stats_df.groupby([\"Education\"])['ID'].count()\n",
    "edu_group_count"
   ]
  },
  {
   "cell_type": "code",
   "execution_count": 11,
   "id": "89bff29f-3e58-4e04-a482-722974365f21",
   "metadata": {
    "tags": []
   },
   "outputs": [
    {
     "data": {
      "image/png": "[encoded data removed]",
      "text/plain": [
       "<Figure size 360x360 with 1 Axes>"
      ]
     },
     "metadata": {},
     "output_type": "display_data"
    }
   ],
   "source": [
    "sns.set_theme(style=\"whitegrid\")\n",
    "\n",
    "edu_plot = sns.catplot(x=\"Education\", kind=\"count\", order=['PhD', 'Graduation', 'Master', '2n Cycle', 'Basic'], data=sample_stats_df)"
   ]
  },
  {
   "cell_type": "markdown",
   "id": "3b8847e4-9cf4-4995-925e-c6221a770312",
   "metadata": {},
   "source": [
    "> Among the different educational attainments, most enrollees are customers who are expecting graduation. "
   ]
  },
  {
   "cell_type": "markdown",
   "id": "70f6c96e",
   "metadata": {},
   "source": [
    "Computes for average income per educational attainment type"
   ]
  },
  {
   "cell_type": "code",
   "execution_count": 12,
   "id": "9a1cb940-5b8f-40f4-bd5b-a94f1777b795",
   "metadata": {},
   "outputs": [
    {
     "data": {
      "text/plain": [
       "Education\n",
       "2n Cycle      61259.714286\n",
       "Basic         26659.600000\n",
       "Graduation    62142.122449\n",
       "Master        49447.333333\n",
       "PhD           52871.291667\n",
       "Name: Income, dtype: float64"
      ]
     },
     "execution_count": 12,
     "metadata": {},
     "output_type": "execute_result"
    }
   ],
   "source": [
    "edu_income_df=sample_stats_df.groupby([\"Education\"])[\"Income\"].mean()\n",
    "edu_income_df"
   ]
  },
  {
   "cell_type": "code",
   "execution_count": 13,
   "id": "0b809bba-e807-4867-9379-62134899ef55",
   "metadata": {},
   "outputs": [
    {
     "data": {
      "text/plain": [
       "<AxesSubplot:xlabel='Education'>"
      ]
     },
     "execution_count": 13,
     "metadata": {},
     "output_type": "execute_result"
    },
    {
     "data": {
      "image/png": "[encoded data removed]",
      "text/plain": [
       "<Figure size 432x288 with 1 Axes>"
      ]
     },
     "metadata": {},
     "output_type": "display_data"
    }
   ],
   "source": [
    "edu_income_df.plot(kind = \"bar\")"
   ]
  },
  {
   "cell_type": "markdown",
   "id": "42245e3d-aa56-4ced-a818-7a41d544b94c",
   "metadata": {},
   "source": [
    "> Among the educational attainments, enrolled customers who attained Basic Education have the lowest average income."
   ]
  },
  {
   "cell_type": "markdown",
   "id": "1910667f",
   "metadata": {},
   "source": [
    "### Marital Status\n",
    "\n",
    "Checks for inconsistencies in `Marital_Status`"
   ]
  },
  {
   "cell_type": "code",
   "execution_count": 14,
   "id": "aea5317b-f88d-4ca8-b14b-8ad84165896c",
   "metadata": {},
   "outputs": [
    {
     "data": {
      "image/png": "[encoded data removed]",
      "text/plain": [
       "<Figure size 360x360 with 1 Axes>"
      ]
     },
     "metadata": {},
     "output_type": "display_data"
    }
   ],
   "source": [
    "sns.set_theme(style=\"whitegrid\")\n",
    "\n",
    "edu_plot = sns.catplot(x=\"Marital_Status\", kind=\"count\", order=['Single', 'Divorced', 'Together', 'Married', 'Widow'], data=sample_stats_df)"
   ]
  },
  {
   "cell_type": "markdown",
   "id": "73d7cf4d-1edc-4996-b0ce-669e77805516",
   "metadata": {},
   "source": [
    "> Based from marital status, most enrollees are customers who are married. "
   ]
  },
  {
   "cell_type": "markdown",
   "id": "ae2d67f9",
   "metadata": {},
   "source": [
    "Computes for average income per marital status type"
   ]
  },
  {
   "cell_type": "code",
   "execution_count": 15,
   "id": "5610ab50-846f-491a-8cec-baeda1ef8e85",
   "metadata": {},
   "outputs": [
    {
     "data": {
      "text/html": [
       "<div>\n",
       "<style scoped>\n",
       "    .dataframe tbody tr th:only-of-type {\n",
       "        vertical-align: middle;\n",
       "    }\n",
       "\n",
       "    .dataframe tbody tr th {\n",
       "        vertical-align: top;\n",
       "    }\n",
       "\n",
       "    .dataframe thead th {\n",
       "        text-align: right;\n",
       "    }\n",
       "</style>\n",
       "<table border=\"1\" class=\"dataframe\">\n",
       "  <thead>\n",
       "    <tr style=\"text-align: right;\">\n",
       "      <th></th>\n",
       "      <th>ave_income</th>\n",
       "      <th>total_indv</th>\n",
       "    </tr>\n",
       "    <tr>\n",
       "      <th>Marital_Status</th>\n",
       "      <th></th>\n",
       "      <th></th>\n",
       "    </tr>\n",
       "  </thead>\n",
       "  <tbody>\n",
       "    <tr>\n",
       "      <th>Divorced</th>\n",
       "      <td>75658.000000</td>\n",
       "      <td>10</td>\n",
       "    </tr>\n",
       "    <tr>\n",
       "      <th>Married</th>\n",
       "      <td>55368.613636</td>\n",
       "      <td>44</td>\n",
       "    </tr>\n",
       "    <tr>\n",
       "      <th>Single</th>\n",
       "      <td>53983.937500</td>\n",
       "      <td>16</td>\n",
       "    </tr>\n",
       "    <tr>\n",
       "      <th>Together</th>\n",
       "      <td>53173.461538</td>\n",
       "      <td>26</td>\n",
       "    </tr>\n",
       "    <tr>\n",
       "      <th>Widow</th>\n",
       "      <td>44662.250000</td>\n",
       "      <td>4</td>\n",
       "    </tr>\n",
       "  </tbody>\n",
       "</table>\n",
       "</div>"
      ],
      "text/plain": [
       "                  ave_income  total_indv\n",
       "Marital_Status                          \n",
       "Divorced        75658.000000          10\n",
       "Married         55368.613636          44\n",
       "Single          53983.937500          16\n",
       "Together        53173.461538          26\n",
       "Widow           44662.250000           4"
      ]
     },
     "execution_count": 15,
     "metadata": {},
     "output_type": "execute_result"
    }
   ],
   "source": [
    "ms_income_df=sample_stats_df.groupby([\"Marital_Status\"])[\"Income\"].agg(['mean', 'count'])\n",
    "ms_income_df=ms_income_df.rename(columns={\"mean\": \"ave_income\", \"count\": \"total_indv\"}, errors=\"raise\")\n",
    "ms_income_df"
   ]
  },
  {
   "cell_type": "code",
   "execution_count": 16,
   "id": "f082ab7d-86a0-4562-af49-86aa7c0d0f96",
   "metadata": {},
   "outputs": [
    {
     "data": {
      "text/plain": [
       "<AxesSubplot:xlabel='Marital_Status'>"
      ]
     },
     "execution_count": 16,
     "metadata": {},
     "output_type": "execute_result"
    },
    {
     "data": {
      "image/png": "[encoded data removed]",
      "text/plain": [
       "<Figure size 432x288 with 1 Axes>"
      ]
     },
     "metadata": {},
     "output_type": "display_data"
    }
   ],
   "source": [
    "ms_income_df=sample_stats_df.groupby([\"Marital_Status\"])[\"Income\"].agg(['mean'])\n",
    "ms_income_df=ms_income_df.rename(columns={\"mean\": \"ave_income\"}, errors=\"raise\")\n",
    "ms_income_df.plot(kind=\"bar\")"
   ]
  },
  {
   "cell_type": "markdown",
   "id": "47696ef1-ce57-40f7-b0d1-1ed5df0e5805",
   "metadata": {},
   "source": [
    "> Enrolled customers who are divorced has garnered the highest average income compared those who are single, widow, couple (Together), and married. "
   ]
  },
  {
   "cell_type": "markdown",
   "id": "4999c362",
   "metadata": {},
   "source": [
    "## Expenses\n",
    "Combines fields related to expenses on food"
   ]
  },
  {
   "cell_type": "markdown",
   "id": "00b7a731-78c0-4187-acf7-5ec4e7564126",
   "metadata": {},
   "source": [
    "Computing the sum of expenses related to expenses on food"
   ]
  },
  {
   "cell_type": "code",
   "execution_count": 17,
   "id": "3b8a2369-c9b3-4d1f-b38b-03533ab26293",
   "metadata": {
    "scrolled": true
   },
   "outputs": [
    {
     "data": {
      "text/html": [
       "<div>\n",
       "<style scoped>\n",
       "    .dataframe tbody tr th:only-of-type {\n",
       "        vertical-align: middle;\n",
       "    }\n",
       "\n",
       "    .dataframe tbody tr th {\n",
       "        vertical-align: top;\n",
       "    }\n",
       "\n",
       "    .dataframe thead th {\n",
       "        text-align: right;\n",
       "    }\n",
       "</style>\n",
       "<table border=\"1\" class=\"dataframe\">\n",
       "  <thead>\n",
       "    <tr style=\"text-align: right;\">\n",
       "      <th></th>\n",
       "      <th>MntWines</th>\n",
       "      <th>MntFruits</th>\n",
       "      <th>MntMeatProducts</th>\n",
       "      <th>MntFishProducts</th>\n",
       "      <th>MntSweetProducts</th>\n",
       "      <th>Total_Exp</th>\n",
       "    </tr>\n",
       "  </thead>\n",
       "  <tbody>\n",
       "    <tr>\n",
       "      <th>1317</th>\n",
       "      <td>12</td>\n",
       "      <td>2</td>\n",
       "      <td>20</td>\n",
       "      <td>3</td>\n",
       "      <td>2</td>\n",
       "      <td>39</td>\n",
       "    </tr>\n",
       "    <tr>\n",
       "      <th>1175</th>\n",
       "      <td>184</td>\n",
       "      <td>2</td>\n",
       "      <td>19</td>\n",
       "      <td>8</td>\n",
       "      <td>8</td>\n",
       "      <td>221</td>\n",
       "    </tr>\n",
       "    <tr>\n",
       "      <th>1451</th>\n",
       "      <td>227</td>\n",
       "      <td>151</td>\n",
       "      <td>573</td>\n",
       "      <td>98</td>\n",
       "      <td>54</td>\n",
       "      <td>1103</td>\n",
       "    </tr>\n",
       "    <tr>\n",
       "      <th>1010</th>\n",
       "      <td>1230</td>\n",
       "      <td>0</td>\n",
       "      <td>396</td>\n",
       "      <td>232</td>\n",
       "      <td>178</td>\n",
       "      <td>2036</td>\n",
       "    </tr>\n",
       "    <tr>\n",
       "      <th>2158</th>\n",
       "      <td>576</td>\n",
       "      <td>7</td>\n",
       "      <td>115</td>\n",
       "      <td>19</td>\n",
       "      <td>7</td>\n",
       "      <td>724</td>\n",
       "    </tr>\n",
       "    <tr>\n",
       "      <th>...</th>\n",
       "      <td>...</td>\n",
       "      <td>...</td>\n",
       "      <td>...</td>\n",
       "      <td>...</td>\n",
       "      <td>...</td>\n",
       "      <td>...</td>\n",
       "    </tr>\n",
       "    <tr>\n",
       "      <th>2009</th>\n",
       "      <td>561</td>\n",
       "      <td>14</td>\n",
       "      <td>113</td>\n",
       "      <td>10</td>\n",
       "      <td>14</td>\n",
       "      <td>712</td>\n",
       "    </tr>\n",
       "    <tr>\n",
       "      <th>1899</th>\n",
       "      <td>378</td>\n",
       "      <td>14</td>\n",
       "      <td>68</td>\n",
       "      <td>19</td>\n",
       "      <td>14</td>\n",
       "      <td>493</td>\n",
       "    </tr>\n",
       "    <tr>\n",
       "      <th>603</th>\n",
       "      <td>410</td>\n",
       "      <td>16</td>\n",
       "      <td>114</td>\n",
       "      <td>0</td>\n",
       "      <td>5</td>\n",
       "      <td>545</td>\n",
       "    </tr>\n",
       "    <tr>\n",
       "      <th>197</th>\n",
       "      <td>519</td>\n",
       "      <td>17</td>\n",
       "      <td>813</td>\n",
       "      <td>27</td>\n",
       "      <td>173</td>\n",
       "      <td>1549</td>\n",
       "    </tr>\n",
       "    <tr>\n",
       "      <th>162</th>\n",
       "      <td>53</td>\n",
       "      <td>3</td>\n",
       "      <td>49</td>\n",
       "      <td>7</td>\n",
       "      <td>4</td>\n",
       "      <td>116</td>\n",
       "    </tr>\n",
       "  </tbody>\n",
       "</table>\n",
       "<p>100 rows × 6 columns</p>\n",
       "</div>"
      ],
      "text/plain": [
       "      MntWines  MntFruits  MntMeatProducts  MntFishProducts  MntSweetProducts  \\\n",
       "1317        12          2               20                3                 2   \n",
       "1175       184          2               19                8                 8   \n",
       "1451       227        151              573               98                54   \n",
       "1010      1230          0              396              232               178   \n",
       "2158       576          7              115               19                 7   \n",
       "...        ...        ...              ...              ...               ...   \n",
       "2009       561         14              113               10                14   \n",
       "1899       378         14               68               19                14   \n",
       "603        410         16              114                0                 5   \n",
       "197        519         17              813               27               173   \n",
       "162         53          3               49                7                 4   \n",
       "\n",
       "      Total_Exp  \n",
       "1317         39  \n",
       "1175        221  \n",
       "1451       1103  \n",
       "1010       2036  \n",
       "2158        724  \n",
       "...         ...  \n",
       "2009        712  \n",
       "1899        493  \n",
       "603         545  \n",
       "197        1549  \n",
       "162         116  \n",
       "\n",
       "[100 rows x 6 columns]"
      ]
     },
     "execution_count": 17,
     "metadata": {},
     "output_type": "execute_result"
    }
   ],
   "source": [
    "sample_stats_df[\"Total_Exp\"] = sample_stats_df['MntWines'] + sample_stats_df['MntFruits'] + sample_stats_df['MntMeatProducts'] + sample_stats_df['MntFishProducts'] + sample_stats_df['MntSweetProducts']\n",
    "sample_stats_df[[\"MntWines\",\"MntFruits\",\"MntMeatProducts\",\"MntFishProducts\", \"MntSweetProducts\", \"Total_Exp\"]]"
   ]
  },
  {
   "cell_type": "markdown",
   "id": "13d29128",
   "metadata": {},
   "source": [
    "## Children \n",
    "Combines fields to get the number of children a customer has\n"
   ]
  },
  {
   "cell_type": "markdown",
   "id": "336d1898-36af-4e62-98c9-32d152c86cba",
   "metadata": {},
   "source": [
    "Computing the total number of customers who has the same number of children"
   ]
  },
  {
   "cell_type": "code",
   "execution_count": 18,
   "id": "2af321aa-8e78-49ed-b231-f30b56f3e600",
   "metadata": {},
   "outputs": [
    {
     "data": {
      "text/plain": [
       "Total_Children\n",
       "0    29\n",
       "1    56\n",
       "2    15\n",
       "Name: ID, dtype: int64"
      ]
     },
     "execution_count": 18,
     "metadata": {},
     "output_type": "execute_result"
    }
   ],
   "source": [
    "sample_stats_df[\"Total_Children\"] = sample_stats_df[\"Kidhome\"] + sample_stats_df[\"Teenhome\"]\n",
    "Children_group_count = sample_stats_df.groupby([\"Total_Children\"])['ID'].count()\n",
    "Children_group_count"
   ]
  },
  {
   "cell_type": "code",
   "execution_count": 19,
   "id": "9a8a9cbd-50b0-4214-848a-c5d4b2d35273",
   "metadata": {},
   "outputs": [
    {
     "data": {
      "text/plain": [
       "array([2, 1, 0], dtype=int64)"
      ]
     },
     "execution_count": 19,
     "metadata": {},
     "output_type": "execute_result"
    }
   ],
   "source": [
    "sample_stats_df[\"Total_Children\"].unique()"
   ]
  },
  {
   "cell_type": "code",
   "execution_count": 20,
   "id": "4da8e341-2278-475d-be5c-16f84ca12799",
   "metadata": {},
   "outputs": [
    {
     "data": {
      "image/png": "[encoded data removed]",
      "text/plain": [
       "<Figure size 360x360 with 1 Axes>"
      ]
     },
     "metadata": {},
     "output_type": "display_data"
    }
   ],
   "source": [
    "sns.set_theme(style=\"whitegrid\")\n",
    "\n",
    "edu_plot = sns.catplot(x=\"Total_Children\", kind=\"count\", order=[2,1,0], data=sample_stats_df)"
   ]
  },
  {
   "cell_type": "markdown",
   "id": "eb77b0f7-f450-4d4d-8462-89fda1ce0934",
   "metadata": {},
   "source": [
    "> Most enrolled customers have only one child. "
   ]
  },
  {
   "cell_type": "markdown",
   "id": "9676cf70",
   "metadata": {},
   "source": [
    "## Campaigns\n",
    "Shows number of campaigns attended by a customer"
   ]
  },
  {
   "cell_type": "markdown",
   "id": "0b7b0f0d-02ba-4724-8367-2af143cd956b",
   "metadata": {},
   "source": [
    "Computes the total number of offers accepted out of the 6 campaigns per customer"
   ]
  },
  {
   "cell_type": "code",
   "execution_count": 21,
   "id": "ae27778d",
   "metadata": {},
   "outputs": [
    {
     "data": {
      "text/plain": [
       "array([0, 3, 1, 2, 5, 4], dtype=int64)"
      ]
     },
     "execution_count": 21,
     "metadata": {},
     "output_type": "execute_result"
    }
   ],
   "source": [
    "sample_stats_df[\"Total_Cam\"] = sample_stats_df[\"AcceptedCmp3\"] + sample_stats_df[\"AcceptedCmp4\"] + sample_stats_df[\"AcceptedCmp5\"] + sample_stats_df[\"AcceptedCmp1\"] + sample_stats_df[\"AcceptedCmp2\"] + sample_stats_df[\"Response\"]\n",
    "sample_stats_df[\"Total_Cam\"].unique()"
   ]
  },
  {
   "cell_type": "code",
   "execution_count": 22,
   "id": "68f29f41",
   "metadata": {},
   "outputs": [
    {
     "data": {
      "image/png": "[encoded data removed]",
      "text/plain": [
       "<Figure size 360x360 with 1 Axes>"
      ]
     },
     "metadata": {},
     "output_type": "display_data"
    }
   ],
   "source": [
    "edu_plot = sns.catplot(x=\"Total_Cam\", kind=\"count\", order=[5,4,3,2,1,0], data=sample_stats_df)"
   ]
  },
  {
   "cell_type": "markdown",
   "id": "3368abf0-7cfe-4c82-899d-76ae7005ed9b",
   "metadata": {},
   "source": [
    "> Most enrolled customers did not accept any offers out of the 6 campaigns. "
   ]
  },
  {
   "cell_type": "markdown",
   "id": "d4a192cc",
   "metadata": {},
   "source": [
    "**Relationship of Number of Campaigns Attended to Total Expenses**"
   ]
  },
  {
   "cell_type": "code",
   "execution_count": 26,
   "id": "e25733c5",
   "metadata": {
    "tags": []
   },
   "outputs": [
    {
     "data": {
      "image/png": "[encoded data removed]",
      "text/plain": [
       "<Figure size 432x288 with 1 Axes>"
      ]
     },
     "metadata": {},
     "output_type": "display_data"
    }
   ],
   "source": [
    "sample_stats_df[[\"Total_Cam\", \"Total_Exp\"]]\n",
    "#edu_plot = sns.catplot(x=\"Total_Cam\", y=\"Total_Exp\", order=[5,4,3,2,1,0], data=sample_stats_df)\n",
    "edu_plot = sample_stats_df.boxplot(by ='Total_Cam', column =['Total_Exp'], grid = False)"
   ]
  },
  {
   "cell_type": "code",
   "execution_count": 28,
   "id": "3e3ea0ff-f7db-44f7-87c5-3e8cff817562",
   "metadata": {},
   "outputs": [
    {
     "data": {
      "image/png": "[encoded data removed]",
      "text/plain": [
       "<Figure size 360x360 with 1 Axes>"
      ]
     },
     "metadata": {},
     "output_type": "display_data"
    }
   ],
   "source": [
    "edu_plot = sns.catplot(x=\"Total_Cam\", y=\"Total_Exp\", order=[0, 1, 2, 3, 4, 5], data=sample_stats_df)"
   ]
  },
  {
   "cell_type": "markdown",
   "id": "dee909d8-4e3c-4967-89be-d40cb9861c92",
   "metadata": {},
   "source": [
    "> Since there are some counted only one enrolled customer who accepted 4 or 5 offers out of the 6 campaigns, there is no variability on the total of expenses amongst the total number of accepted offers in a campaign. However, customers who accepted 2 or 3 offers would indiciate that a customer spends more upon accepting offers in a campaign. "
   ]
  },
  {
   "cell_type": "markdown",
   "id": "a340f025",
   "metadata": {},
   "source": [
    "**Relationship of Number of Children to Total Expenses**"
   ]
  },
  {
   "cell_type": "code",
   "execution_count": 29,
   "id": "596e500a",
   "metadata": {},
   "outputs": [
    {
     "data": {
      "image/png": "[encoded data removed]",
      "text/plain": [
       "<Figure size 432x288 with 1 Axes>"
      ]
     },
     "metadata": {},
     "output_type": "display_data"
    }
   ],
   "source": [
    "sample_stats_df[[\"Total_Children\", \"Total_Exp\"]]\n",
    "#edu_plot = sns.catplot(x=\"Total_Children\", y=\"Total_Exp\", order=[2,1,0], data=sample_stats_df)\n",
    "edu_plot = sample_stats_df.boxplot(by ='Total_Children', column =['Total_Exp'], grid = False)"
   ]
  },
  {
   "cell_type": "code",
   "execution_count": 31,
   "id": "a36a73f3-9c41-4e20-8013-8fa7af1b189f",
   "metadata": {},
   "outputs": [
    {
     "data": {
      "image/png": "[encoded data removed]",
      "text/plain": [
       "<Figure size 360x360 with 1 Axes>"
      ]
     },
     "metadata": {},
     "output_type": "display_data"
    }
   ],
   "source": [
    "edu_plot = sns.catplot(x=\"Total_Children\", y=\"Total_Exp\", order=[0,1,2], data=sample_stats_df)"
   ]
  },
  {
   "cell_type": "markdown",
   "id": "e9c43c7d-2a05-443d-b1bf-d155956a51f4",
   "metadata": {},
   "source": []
  },
  {
   "cell_type": "markdown",
   "id": "a94b63b9-5228-4a67-9d1e-c43d142f7c85",
   "metadata": {},
   "source": [
    "## Research Question\n",
    "\n",
    "1. Does the number of campaigns attended affect the amount spent on grocery products?\n",
    "2. \n",
    "3. "
   ]
  },
  {
   "cell_type": "markdown",
   "id": "a7d9c6ad-f7c0-436c-bb1e-9dda72c8c9ed",
   "metadata": {},
   "source": [
    "## Statistical Inference"
   ]
  },
  {
   "cell_type": "code",
   "execution_count": 25,
   "id": "4f012859",
   "metadata": {},
   "outputs": [
    {
     "data": {
      "text/html": [
       "<div>\n",
       "<style scoped>\n",
       "    .dataframe tbody tr th:only-of-type {\n",
       "        vertical-align: middle;\n",
       "    }\n",
       "\n",
       "    .dataframe tbody tr th {\n",
       "        vertical-align: top;\n",
       "    }\n",
       "\n",
       "    .dataframe thead th {\n",
       "        text-align: right;\n",
       "    }\n",
       "</style>\n",
       "<table border=\"1\" class=\"dataframe\">\n",
       "  <thead>\n",
       "    <tr style=\"text-align: right;\">\n",
       "      <th></th>\n",
       "      <th>count</th>\n",
       "      <th>mean</th>\n",
       "      <th>std</th>\n",
       "      <th>min</th>\n",
       "      <th>25%</th>\n",
       "      <th>50%</th>\n",
       "      <th>75%</th>\n",
       "      <th>max</th>\n",
       "    </tr>\n",
       "  </thead>\n",
       "  <tbody>\n",
       "    <tr>\n",
       "      <th>ID</th>\n",
       "      <td>2240.0</td>\n",
       "      <td>5592.159821</td>\n",
       "      <td>3246.662198</td>\n",
       "      <td>0.0</td>\n",
       "      <td>2828.25</td>\n",
       "      <td>5458.5</td>\n",
       "      <td>8427.75</td>\n",
       "      <td>11191.0</td>\n",
       "    </tr>\n",
       "    <tr>\n",
       "      <th>Year_Birth</th>\n",
       "      <td>2240.0</td>\n",
       "      <td>1968.805804</td>\n",
       "      <td>11.984069</td>\n",
       "      <td>1893.0</td>\n",
       "      <td>1959.00</td>\n",
       "      <td>1970.0</td>\n",
       "      <td>1977.00</td>\n",
       "      <td>1996.0</td>\n",
       "    </tr>\n",
       "    <tr>\n",
       "      <th>Income</th>\n",
       "      <td>2216.0</td>\n",
       "      <td>52247.251354</td>\n",
       "      <td>25173.076661</td>\n",
       "      <td>1730.0</td>\n",
       "      <td>35303.00</td>\n",
       "      <td>51381.5</td>\n",
       "      <td>68522.00</td>\n",
       "      <td>666666.0</td>\n",
       "    </tr>\n",
       "    <tr>\n",
       "      <th>Kidhome</th>\n",
       "      <td>2240.0</td>\n",
       "      <td>0.444196</td>\n",
       "      <td>0.538398</td>\n",
       "      <td>0.0</td>\n",
       "      <td>0.00</td>\n",
       "      <td>0.0</td>\n",
       "      <td>1.00</td>\n",
       "      <td>2.0</td>\n",
       "    </tr>\n",
       "    <tr>\n",
       "      <th>Teenhome</th>\n",
       "      <td>2240.0</td>\n",
       "      <td>0.506250</td>\n",
       "      <td>0.544538</td>\n",
       "      <td>0.0</td>\n",
       "      <td>0.00</td>\n",
       "      <td>0.0</td>\n",
       "      <td>1.00</td>\n",
       "      <td>2.0</td>\n",
       "    </tr>\n",
       "    <tr>\n",
       "      <th>Recency</th>\n",
       "      <td>2240.0</td>\n",
       "      <td>49.109375</td>\n",
       "      <td>28.962453</td>\n",
       "      <td>0.0</td>\n",
       "      <td>24.00</td>\n",
       "      <td>49.0</td>\n",
       "      <td>74.00</td>\n",
       "      <td>99.0</td>\n",
       "    </tr>\n",
       "    <tr>\n",
       "      <th>MntWines</th>\n",
       "      <td>2240.0</td>\n",
       "      <td>303.935714</td>\n",
       "      <td>336.597393</td>\n",
       "      <td>0.0</td>\n",
       "      <td>23.75</td>\n",
       "      <td>173.5</td>\n",
       "      <td>504.25</td>\n",
       "      <td>1493.0</td>\n",
       "    </tr>\n",
       "    <tr>\n",
       "      <th>MntFruits</th>\n",
       "      <td>2240.0</td>\n",
       "      <td>26.302232</td>\n",
       "      <td>39.773434</td>\n",
       "      <td>0.0</td>\n",
       "      <td>1.00</td>\n",
       "      <td>8.0</td>\n",
       "      <td>33.00</td>\n",
       "      <td>199.0</td>\n",
       "    </tr>\n",
       "    <tr>\n",
       "      <th>MntMeatProducts</th>\n",
       "      <td>2240.0</td>\n",
       "      <td>166.950000</td>\n",
       "      <td>225.715373</td>\n",
       "      <td>0.0</td>\n",
       "      <td>16.00</td>\n",
       "      <td>67.0</td>\n",
       "      <td>232.00</td>\n",
       "      <td>1725.0</td>\n",
       "    </tr>\n",
       "    <tr>\n",
       "      <th>MntFishProducts</th>\n",
       "      <td>2240.0</td>\n",
       "      <td>37.525446</td>\n",
       "      <td>54.628979</td>\n",
       "      <td>0.0</td>\n",
       "      <td>3.00</td>\n",
       "      <td>12.0</td>\n",
       "      <td>50.00</td>\n",
       "      <td>259.0</td>\n",
       "    </tr>\n",
       "    <tr>\n",
       "      <th>MntSweetProducts</th>\n",
       "      <td>2240.0</td>\n",
       "      <td>27.062946</td>\n",
       "      <td>41.280498</td>\n",
       "      <td>0.0</td>\n",
       "      <td>1.00</td>\n",
       "      <td>8.0</td>\n",
       "      <td>33.00</td>\n",
       "      <td>263.0</td>\n",
       "    </tr>\n",
       "    <tr>\n",
       "      <th>MntGoldProds</th>\n",
       "      <td>2240.0</td>\n",
       "      <td>44.021875</td>\n",
       "      <td>52.167439</td>\n",
       "      <td>0.0</td>\n",
       "      <td>9.00</td>\n",
       "      <td>24.0</td>\n",
       "      <td>56.00</td>\n",
       "      <td>362.0</td>\n",
       "    </tr>\n",
       "    <tr>\n",
       "      <th>NumDealsPurchases</th>\n",
       "      <td>2240.0</td>\n",
       "      <td>2.325000</td>\n",
       "      <td>1.932238</td>\n",
       "      <td>0.0</td>\n",
       "      <td>1.00</td>\n",
       "      <td>2.0</td>\n",
       "      <td>3.00</td>\n",
       "      <td>15.0</td>\n",
       "    </tr>\n",
       "    <tr>\n",
       "      <th>NumWebPurchases</th>\n",
       "      <td>2240.0</td>\n",
       "      <td>4.084821</td>\n",
       "      <td>2.778714</td>\n",
       "      <td>0.0</td>\n",
       "      <td>2.00</td>\n",
       "      <td>4.0</td>\n",
       "      <td>6.00</td>\n",
       "      <td>27.0</td>\n",
       "    </tr>\n",
       "    <tr>\n",
       "      <th>NumCatalogPurchases</th>\n",
       "      <td>2240.0</td>\n",
       "      <td>2.662054</td>\n",
       "      <td>2.923101</td>\n",
       "      <td>0.0</td>\n",
       "      <td>0.00</td>\n",
       "      <td>2.0</td>\n",
       "      <td>4.00</td>\n",
       "      <td>28.0</td>\n",
       "    </tr>\n",
       "    <tr>\n",
       "      <th>NumStorePurchases</th>\n",
       "      <td>2240.0</td>\n",
       "      <td>5.790179</td>\n",
       "      <td>3.250958</td>\n",
       "      <td>0.0</td>\n",
       "      <td>3.00</td>\n",
       "      <td>5.0</td>\n",
       "      <td>8.00</td>\n",
       "      <td>13.0</td>\n",
       "    </tr>\n",
       "    <tr>\n",
       "      <th>NumWebVisitsMonth</th>\n",
       "      <td>2240.0</td>\n",
       "      <td>5.316518</td>\n",
       "      <td>2.426645</td>\n",
       "      <td>0.0</td>\n",
       "      <td>3.00</td>\n",
       "      <td>6.0</td>\n",
       "      <td>7.00</td>\n",
       "      <td>20.0</td>\n",
       "    </tr>\n",
       "    <tr>\n",
       "      <th>AcceptedCmp3</th>\n",
       "      <td>2240.0</td>\n",
       "      <td>0.072768</td>\n",
       "      <td>0.259813</td>\n",
       "      <td>0.0</td>\n",
       "      <td>0.00</td>\n",
       "      <td>0.0</td>\n",
       "      <td>0.00</td>\n",
       "      <td>1.0</td>\n",
       "    </tr>\n",
       "    <tr>\n",
       "      <th>AcceptedCmp4</th>\n",
       "      <td>2240.0</td>\n",
       "      <td>0.074554</td>\n",
       "      <td>0.262728</td>\n",
       "      <td>0.0</td>\n",
       "      <td>0.00</td>\n",
       "      <td>0.0</td>\n",
       "      <td>0.00</td>\n",
       "      <td>1.0</td>\n",
       "    </tr>\n",
       "    <tr>\n",
       "      <th>AcceptedCmp5</th>\n",
       "      <td>2240.0</td>\n",
       "      <td>0.072768</td>\n",
       "      <td>0.259813</td>\n",
       "      <td>0.0</td>\n",
       "      <td>0.00</td>\n",
       "      <td>0.0</td>\n",
       "      <td>0.00</td>\n",
       "      <td>1.0</td>\n",
       "    </tr>\n",
       "    <tr>\n",
       "      <th>AcceptedCmp1</th>\n",
       "      <td>2240.0</td>\n",
       "      <td>0.064286</td>\n",
       "      <td>0.245316</td>\n",
       "      <td>0.0</td>\n",
       "      <td>0.00</td>\n",
       "      <td>0.0</td>\n",
       "      <td>0.00</td>\n",
       "      <td>1.0</td>\n",
       "    </tr>\n",
       "    <tr>\n",
       "      <th>AcceptedCmp2</th>\n",
       "      <td>2240.0</td>\n",
       "      <td>0.013393</td>\n",
       "      <td>0.114976</td>\n",
       "      <td>0.0</td>\n",
       "      <td>0.00</td>\n",
       "      <td>0.0</td>\n",
       "      <td>0.00</td>\n",
       "      <td>1.0</td>\n",
       "    </tr>\n",
       "    <tr>\n",
       "      <th>Complain</th>\n",
       "      <td>2240.0</td>\n",
       "      <td>0.009375</td>\n",
       "      <td>0.096391</td>\n",
       "      <td>0.0</td>\n",
       "      <td>0.00</td>\n",
       "      <td>0.0</td>\n",
       "      <td>0.00</td>\n",
       "      <td>1.0</td>\n",
       "    </tr>\n",
       "    <tr>\n",
       "      <th>Z_CostContact</th>\n",
       "      <td>2240.0</td>\n",
       "      <td>3.000000</td>\n",
       "      <td>0.000000</td>\n",
       "      <td>3.0</td>\n",
       "      <td>3.00</td>\n",
       "      <td>3.0</td>\n",
       "      <td>3.00</td>\n",
       "      <td>3.0</td>\n",
       "    </tr>\n",
       "    <tr>\n",
       "      <th>Z_Revenue</th>\n",
       "      <td>2240.0</td>\n",
       "      <td>11.000000</td>\n",
       "      <td>0.000000</td>\n",
       "      <td>11.0</td>\n",
       "      <td>11.00</td>\n",
       "      <td>11.0</td>\n",
       "      <td>11.00</td>\n",
       "      <td>11.0</td>\n",
       "    </tr>\n",
       "    <tr>\n",
       "      <th>Response</th>\n",
       "      <td>2240.0</td>\n",
       "      <td>0.149107</td>\n",
       "      <td>0.356274</td>\n",
       "      <td>0.0</td>\n",
       "      <td>0.00</td>\n",
       "      <td>0.0</td>\n",
       "      <td>0.00</td>\n",
       "      <td>1.0</td>\n",
       "    </tr>\n",
       "  </tbody>\n",
       "</table>\n",
       "</div>"
      ],
      "text/plain": [
       "                      count          mean           std     min       25%  \\\n",
       "ID                   2240.0   5592.159821   3246.662198     0.0   2828.25   \n",
       "Year_Birth           2240.0   1968.805804     11.984069  1893.0   1959.00   \n",
       "Income               2216.0  52247.251354  25173.076661  1730.0  35303.00   \n",
       "Kidhome              2240.0      0.444196      0.538398     0.0      0.00   \n",
       "Teenhome             2240.0      0.506250      0.544538     0.0      0.00   \n",
       "Recency              2240.0     49.109375     28.962453     0.0     24.00   \n",
       "MntWines             2240.0    303.935714    336.597393     0.0     23.75   \n",
       "MntFruits            2240.0     26.302232     39.773434     0.0      1.00   \n",
       "MntMeatProducts      2240.0    166.950000    225.715373     0.0     16.00   \n",
       "MntFishProducts      2240.0     37.525446     54.628979     0.0      3.00   \n",
       "MntSweetProducts     2240.0     27.062946     41.280498     0.0      1.00   \n",
       "MntGoldProds         2240.0     44.021875     52.167439     0.0      9.00   \n",
       "NumDealsPurchases    2240.0      2.325000      1.932238     0.0      1.00   \n",
       "NumWebPurchases      2240.0      4.084821      2.778714     0.0      2.00   \n",
       "NumCatalogPurchases  2240.0      2.662054      2.923101     0.0      0.00   \n",
       "NumStorePurchases    2240.0      5.790179      3.250958     0.0      3.00   \n",
       "NumWebVisitsMonth    2240.0      5.316518      2.426645     0.0      3.00   \n",
       "AcceptedCmp3         2240.0      0.072768      0.259813     0.0      0.00   \n",
       "AcceptedCmp4         2240.0      0.074554      0.262728     0.0      0.00   \n",
       "AcceptedCmp5         2240.0      0.072768      0.259813     0.0      0.00   \n",
       "AcceptedCmp1         2240.0      0.064286      0.245316     0.0      0.00   \n",
       "AcceptedCmp2         2240.0      0.013393      0.114976     0.0      0.00   \n",
       "Complain             2240.0      0.009375      0.096391     0.0      0.00   \n",
       "Z_CostContact        2240.0      3.000000      0.000000     3.0      3.00   \n",
       "Z_Revenue            2240.0     11.000000      0.000000    11.0     11.00   \n",
       "Response             2240.0      0.149107      0.356274     0.0      0.00   \n",
       "\n",
       "                         50%       75%       max  \n",
       "ID                    5458.5   8427.75   11191.0  \n",
       "Year_Birth            1970.0   1977.00    1996.0  \n",
       "Income               51381.5  68522.00  666666.0  \n",
       "Kidhome                  0.0      1.00       2.0  \n",
       "Teenhome                 0.0      1.00       2.0  \n",
       "Recency                 49.0     74.00      99.0  \n",
       "MntWines               173.5    504.25    1493.0  \n",
       "MntFruits                8.0     33.00     199.0  \n",
       "MntMeatProducts         67.0    232.00    1725.0  \n",
       "MntFishProducts         12.0     50.00     259.0  \n",
       "MntSweetProducts         8.0     33.00     263.0  \n",
       "MntGoldProds            24.0     56.00     362.0  \n",
       "NumDealsPurchases        2.0      3.00      15.0  \n",
       "NumWebPurchases          4.0      6.00      27.0  \n",
       "NumCatalogPurchases      2.0      4.00      28.0  \n",
       "NumStorePurchases        5.0      8.00      13.0  \n",
       "NumWebVisitsMonth        6.0      7.00      20.0  \n",
       "AcceptedCmp3             0.0      0.00       1.0  \n",
       "AcceptedCmp4             0.0      0.00       1.0  \n",
       "AcceptedCmp5             0.0      0.00       1.0  \n",
       "AcceptedCmp1             0.0      0.00       1.0  \n",
       "AcceptedCmp2             0.0      0.00       1.0  \n",
       "Complain                 0.0      0.00       1.0  \n",
       "Z_CostContact            3.0      3.00       3.0  \n",
       "Z_Revenue               11.0     11.00      11.0  \n",
       "Response                 0.0      0.00       1.0  "
      ]
     },
     "execution_count": 25,
     "metadata": {},
     "output_type": "execute_result"
    }
   ],
   "source": [
    "stats_df.describe().T "
   ]
  },
  {
   "cell_type": "markdown",
   "id": "46bd280e-ea3e-48a3-bbb3-619bb3e7293f",
   "metadata": {},
   "source": [
    "## Insights and Conclusions"
   ]
  }
 ],
 "metadata": {
  "kernelspec": {
   "display_name": "Python 3",
   "language": "python",
   "name": "python3"
  },
  "language_info": {
   "codemirror_mode": {
    "name": "ipython",
    "version": 3
   },
   "file_extension": ".py",
   "mimetype": "text/x-python",
   "name": "python",
   "nbconvert_exporter": "python",
   "pygments_lexer": "ipython3",
   "version": "3.8.5"
  }
 },
 "nbformat": 4,
 "nbformat_minor": 5
}
