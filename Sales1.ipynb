{
 "cells": [
  {
   "cell_type": "markdown",
   "id": "f342c6b6-1b2e-4e71-8a6c-db7e3821a582",
   "metadata": {},
   "source": [
    "# Customer Personality Analysis"
   ]
  },
  {
   "cell_type": "markdown",
   "id": "5bf5fbe7",
   "metadata": {},
   "source": [
    "#### Group 7 Members: Tustin Choa, Margaret Inguillo, Ryan Villanueva"
   ]
  },
  {
   "cell_type": "markdown",
   "id": "ff6139ed",
   "metadata": {},
   "source": [
    "## Notebook Setting Up"
   ]
  },
  {
   "cell_type": "code",
   "execution_count": 60,
   "id": "975b7b29",
   "metadata": {},
   "outputs": [],
   "source": [
    "import pandas as pd\n",
    "import matplotlib.pyplot as plt\n",
    "import numpy as np\n",
    "import seaborn as sns\n",
    "from scipy.stats import chi2_contingency"
   ]
  },
  {
   "cell_type": "code",
   "execution_count": 3,
   "id": "1a9506ca",
   "metadata": {},
   "outputs": [],
   "source": [
    "stats_df = pd.read_csv(\"marketing_campaign.csv\", sep=\"\\t\")"
   ]
  },
  {
   "cell_type": "markdown",
   "id": "2292789f-cb73-4cc2-bdd3-b8c797b90d94",
   "metadata": {},
   "source": [
    "## Data Representation"
   ]
  },
  {
   "cell_type": "code",
   "execution_count": 130,
   "id": "ae8f956f",
   "metadata": {},
   "outputs": [
    {
     "name": "stdout",
     "output_type": "stream",
     "text": [
      "<class 'pandas.core.frame.DataFrame'>\n",
      "RangeIndex: 2240 entries, 0 to 2239\n",
      "Data columns (total 29 columns):\n",
      " #   Column               Non-Null Count  Dtype  \n",
      "---  ------               --------------  -----  \n",
      " 0   ID                   2240 non-null   int64  \n",
      " 1   Year_Birth           2240 non-null   int64  \n",
      " 2   Education            2240 non-null   object \n",
      " 3   Marital_Status       2240 non-null   object \n",
      " 4   Income               2216 non-null   float64\n",
      " 5   Kidhome              2240 non-null   int64  \n",
      " 6   Teenhome             2240 non-null   int64  \n",
      " 7   Dt_Customer          2240 non-null   object \n",
      " 8   Recency              2240 non-null   int64  \n",
      " 9   MntWines             2240 non-null   int64  \n",
      " 10  MntFruits            2240 non-null   int64  \n",
      " 11  MntMeatProducts      2240 non-null   int64  \n",
      " 12  MntFishProducts      2240 non-null   int64  \n",
      " 13  MntSweetProducts     2240 non-null   int64  \n",
      " 14  MntGoldProds         2240 non-null   int64  \n",
      " 15  NumDealsPurchases    2240 non-null   int64  \n",
      " 16  NumWebPurchases      2240 non-null   int64  \n",
      " 17  NumCatalogPurchases  2240 non-null   int64  \n",
      " 18  NumStorePurchases    2240 non-null   int64  \n",
      " 19  NumWebVisitsMonth    2240 non-null   int64  \n",
      " 20  AcceptedCmp3         2240 non-null   int64  \n",
      " 21  AcceptedCmp4         2240 non-null   int64  \n",
      " 22  AcceptedCmp5         2240 non-null   int64  \n",
      " 23  AcceptedCmp1         2240 non-null   int64  \n",
      " 24  AcceptedCmp2         2240 non-null   int64  \n",
      " 25  Complain             2240 non-null   int64  \n",
      " 26  Z_CostContact        2240 non-null   int64  \n",
      " 27  Z_Revenue            2240 non-null   int64  \n",
      " 28  Response             2240 non-null   int64  \n",
      "dtypes: float64(1), int64(25), object(3)\n",
      "memory usage: 507.6+ KB\n"
     ]
    }
   ],
   "source": [
    "stats_df.info()"
   ]
  },
  {
   "cell_type": "markdown",
   "id": "00ac7388",
   "metadata": {},
   "source": [
    "This dataset is about customer personality types. It contains 2240 observations and 29 variables. These variables are grouped into 4 major categories: People, products, promotion, and place. The dataset was created in order to help companies create products that may be sold to a certain group of people with similar traits. It was likely that the information was gathered through the company's website in the form of cookies, as well as, through membership data. \n",
    "\n",
    "Listed below are the variables per category and their interpretation:                           \n",
    "**People**                                   \n",
    "ID: Unique number assigned to every customer                               \n",
    "Year_Birth: Customer's year of birth                                   \n",
    "Education: Customer's education attainment                             \n",
    "Marital_Status: Customer's marital status                                \n",
    "Income: Customer's yearly income                                  \n",
    "Kidhome: Number of children a customer has                                                       \n",
    "Teenhome: How many of the children are teenagers                            \n",
    "Dt_Customer: Customer's date of enrollment at the company                     \n",
    "Recency: Number of days since customer's last purchase                                \n",
    "Complain: 1 if a complain was made by the customer in the last 2 years , 0 otherwise                      \n",
    "\n",
    "**Products**                                                            \n",
    "MntWines: Expenses on wine in the last 2 years                 \n",
    "MntFruits: Expenses on fruits in the last 2 years                                    \n",
    "MntMeatProducts: Expenses on meat in the last 2 years                                   \n",
    "MntFishProducts: Expenses on fish in the last 2 years                                           \n",
    "MntSweetProducts: Expenses on sweets the in last 2 years                            \n",
    "MntGoldProds: Expenses on gold in the last 2 years                       \n",
    "\n",
    "**Promotion**                                     \n",
    "NumDealsPurchases: The number of discounted purchases\n",
    "AcceptedCmp1: 1 if customer bought an offer in the 1st campaign, 0 otherwise                    \n",
    "AcceptedCmp2: 1 if customer bought an offer in the 2nd campaign, 0 otherwise                     \n",
    "AcceptedCmp3: 1 if customer bought an offer in the 3rd campaign, 0 otherwise                     \n",
    "AcceptedCmp4: 1 if customer bought an offer in the 4th campaign, 0 otherwise                              \n",
    "AcceptedCmp5: 1 if customer bought an offer in the 5th campaign, 0 otherwise                             \n",
    "Response: 1 if customer bought an offer in the 6th campaign, 0 otherwise                     \n",
    "\n",
    "**Place**                                          \n",
    "NumWebPurchases: The number of online purchases                                    \n",
    "NumCatalogPurchases: The number of purchases through a catalogue                               \n",
    "NumStorePurchases: The number of purchases made directly in stores                             \n",
    "NumWebVisitsMonth: The number of visits to company’s web site in the last month \n",
    " "
   ]
  },
  {
   "cell_type": "markdown",
   "id": "d132bfa7-da88-43d0-948d-0184b2fbb86c",
   "metadata": {},
   "source": [
    "## Data Cleaning"
   ]
  },
  {
   "cell_type": "markdown",
   "id": "50e52e1f",
   "metadata": {},
   "source": [
    "A sample size of 100 random observations was taken from the 2240 total observations for this study"
   ]
  },
  {
   "cell_type": "code",
   "execution_count": 5,
   "id": "0848514a",
   "metadata": {},
   "outputs": [],
   "source": [
    "n = 100 # sample size\n",
    "sample_stats_df = stats_df.sample(n, random_state=8)"
   ]
  },
  {
   "cell_type": "markdown",
   "id": "b5e5e5e3",
   "metadata": {},
   "source": [
    "Missing values were checked for and none were found"
   ]
  },
  {
   "cell_type": "code",
   "execution_count": 131,
   "id": "d6ce380a",
   "metadata": {},
   "outputs": [
    {
     "data": {
      "text/plain": [
       "ID                     False\n",
       "Year_Birth             False\n",
       "Education              False\n",
       "Marital_Status         False\n",
       "Income                 False\n",
       "Kidhome                False\n",
       "Teenhome               False\n",
       "Dt_Customer            False\n",
       "Recency                False\n",
       "MntWines               False\n",
       "MntFruits              False\n",
       "MntMeatProducts        False\n",
       "MntFishProducts        False\n",
       "MntSweetProducts       False\n",
       "MntGoldProds           False\n",
       "NumDealsPurchases      False\n",
       "NumWebPurchases        False\n",
       "NumCatalogPurchases    False\n",
       "NumStorePurchases      False\n",
       "NumWebVisitsMonth      False\n",
       "AcceptedCmp3           False\n",
       "AcceptedCmp4           False\n",
       "AcceptedCmp5           False\n",
       "AcceptedCmp1           False\n",
       "AcceptedCmp2           False\n",
       "Complain               False\n",
       "Z_CostContact          False\n",
       "Z_Revenue              False\n",
       "Response               False\n",
       "Total_Children         False\n",
       "dtype: bool"
      ]
     },
     "execution_count": 131,
     "metadata": {},
     "output_type": "execute_result"
    }
   ],
   "source": [
    "sample_stats_df.isnull().any()"
   ]
  },
  {
   "cell_type": "markdown",
   "id": "a4683efe",
   "metadata": {},
   "source": [
    "Dropping variables that won't be used for this notebook"
   ]
  },
  {
   "cell_type": "code",
   "execution_count": 6,
   "id": "13abdd8e",
   "metadata": {},
   "outputs": [],
   "source": [
    "sample_stats_df=sample_stats_df.loc[:, ~sample_stats_df.columns.isin(['Z_Revenue', 'Z_CostContact', 'MntGoldProds'])]"
   ]
  },
  {
   "cell_type": "markdown",
   "id": "dfa02382",
   "metadata": {},
   "source": [
    "Checking for inconsistencies in data"
   ]
  },
  {
   "cell_type": "code",
   "execution_count": 87,
   "id": "f9957cb2-114a-4518-af1d-f46b80a603d5",
   "metadata": {},
   "outputs": [
    {
     "data": {
      "text/plain": [
       "array(['2n Cycle', 'Master', 'Graduation', 'PhD', 'Basic'], dtype=object)"
      ]
     },
     "execution_count": 87,
     "metadata": {},
     "output_type": "execute_result"
    }
   ],
   "source": [
    "sample_stats_df[\"Education\"].unique()"
   ]
  },
  {
   "cell_type": "code",
   "execution_count": 123,
   "id": "6cebd66b-efe4-471e-90e1-3f65a3237e07",
   "metadata": {},
   "outputs": [
    {
     "data": {
      "text/plain": [
       "array(['Married', 'Divorced', 'Widow', 'Single', 'Together'], dtype=object)"
      ]
     },
     "execution_count": 123,
     "metadata": {},
     "output_type": "execute_result"
    }
   ],
   "source": [
    "sample_stats_df[\"Marital_Status\"].unique()"
   ]
  },
  {
   "cell_type": "markdown",
   "id": "87c91b8d-58a0-4401-a679-90d69dbe24ab",
   "metadata": {},
   "source": [
    "## Exploratory Data Analysis"
   ]
  },
  {
   "cell_type": "markdown",
   "id": "cdd23cfe",
   "metadata": {},
   "source": [
    "Shows the first 10 observations from the dataset"
   ]
  },
  {
   "cell_type": "code",
   "execution_count": 88,
   "id": "956143d6-5dc5-45c0-ae42-22d724af80bd",
   "metadata": {
    "scrolled": true
   },
   "outputs": [
    {
     "data": {
      "text/html": [
       "<div>\n",
       "<style scoped>\n",
       "    .dataframe tbody tr th:only-of-type {\n",
       "        vertical-align: middle;\n",
       "    }\n",
       "\n",
       "    .dataframe tbody tr th {\n",
       "        vertical-align: top;\n",
       "    }\n",
       "\n",
       "    .dataframe thead th {\n",
       "        text-align: right;\n",
       "    }\n",
       "</style>\n",
       "<table border=\"1\" class=\"dataframe\">\n",
       "  <thead>\n",
       "    <tr style=\"text-align: right;\">\n",
       "      <th></th>\n",
       "      <th>ID</th>\n",
       "      <th>Year_Birth</th>\n",
       "      <th>Education</th>\n",
       "      <th>Marital_Status</th>\n",
       "      <th>Income</th>\n",
       "      <th>Kidhome</th>\n",
       "      <th>Teenhome</th>\n",
       "      <th>Dt_Customer</th>\n",
       "      <th>Recency</th>\n",
       "      <th>MntWines</th>\n",
       "      <th>...</th>\n",
       "      <th>NumCatalogPurchases</th>\n",
       "      <th>NumStorePurchases</th>\n",
       "      <th>NumWebVisitsMonth</th>\n",
       "      <th>AcceptedCmp3</th>\n",
       "      <th>AcceptedCmp4</th>\n",
       "      <th>AcceptedCmp5</th>\n",
       "      <th>AcceptedCmp1</th>\n",
       "      <th>AcceptedCmp2</th>\n",
       "      <th>Complain</th>\n",
       "      <th>Response</th>\n",
       "    </tr>\n",
       "  </thead>\n",
       "  <tbody>\n",
       "    <tr>\n",
       "      <th>1317</th>\n",
       "      <td>4937</td>\n",
       "      <td>1973</td>\n",
       "      <td>2n Cycle</td>\n",
       "      <td>Married</td>\n",
       "      <td>46094.0</td>\n",
       "      <td>1</td>\n",
       "      <td>1</td>\n",
       "      <td>10-06-2014</td>\n",
       "      <td>62</td>\n",
       "      <td>12</td>\n",
       "      <td>...</td>\n",
       "      <td>0</td>\n",
       "      <td>3</td>\n",
       "      <td>7</td>\n",
       "      <td>0</td>\n",
       "      <td>0</td>\n",
       "      <td>0</td>\n",
       "      <td>0</td>\n",
       "      <td>0</td>\n",
       "      <td>0</td>\n",
       "      <td>0</td>\n",
       "    </tr>\n",
       "    <tr>\n",
       "      <th>1175</th>\n",
       "      <td>1604</td>\n",
       "      <td>1960</td>\n",
       "      <td>Master</td>\n",
       "      <td>Married</td>\n",
       "      <td>47353.0</td>\n",
       "      <td>0</td>\n",
       "      <td>1</td>\n",
       "      <td>13-11-2013</td>\n",
       "      <td>93</td>\n",
       "      <td>184</td>\n",
       "      <td>...</td>\n",
       "      <td>2</td>\n",
       "      <td>6</td>\n",
       "      <td>5</td>\n",
       "      <td>0</td>\n",
       "      <td>0</td>\n",
       "      <td>0</td>\n",
       "      <td>0</td>\n",
       "      <td>0</td>\n",
       "      <td>0</td>\n",
       "      <td>0</td>\n",
       "    </tr>\n",
       "    <tr>\n",
       "      <th>1451</th>\n",
       "      <td>6652</td>\n",
       "      <td>1965</td>\n",
       "      <td>Graduation</td>\n",
       "      <td>Married</td>\n",
       "      <td>77343.0</td>\n",
       "      <td>0</td>\n",
       "      <td>0</td>\n",
       "      <td>09-06-2014</td>\n",
       "      <td>28</td>\n",
       "      <td>227</td>\n",
       "      <td>...</td>\n",
       "      <td>4</td>\n",
       "      <td>9</td>\n",
       "      <td>1</td>\n",
       "      <td>0</td>\n",
       "      <td>0</td>\n",
       "      <td>0</td>\n",
       "      <td>0</td>\n",
       "      <td>0</td>\n",
       "      <td>0</td>\n",
       "      <td>0</td>\n",
       "    </tr>\n",
       "    <tr>\n",
       "      <th>1010</th>\n",
       "      <td>5236</td>\n",
       "      <td>1979</td>\n",
       "      <td>Graduation</td>\n",
       "      <td>Together</td>\n",
       "      <td>77568.0</td>\n",
       "      <td>0</td>\n",
       "      <td>1</td>\n",
       "      <td>25-08-2012</td>\n",
       "      <td>30</td>\n",
       "      <td>1230</td>\n",
       "      <td>...</td>\n",
       "      <td>2</td>\n",
       "      <td>8</td>\n",
       "      <td>5</td>\n",
       "      <td>0</td>\n",
       "      <td>1</td>\n",
       "      <td>1</td>\n",
       "      <td>1</td>\n",
       "      <td>0</td>\n",
       "      <td>0</td>\n",
       "      <td>0</td>\n",
       "    </tr>\n",
       "    <tr>\n",
       "      <th>2158</th>\n",
       "      <td>5186</td>\n",
       "      <td>1955</td>\n",
       "      <td>PhD</td>\n",
       "      <td>Married</td>\n",
       "      <td>58482.0</td>\n",
       "      <td>0</td>\n",
       "      <td>1</td>\n",
       "      <td>12-03-2014</td>\n",
       "      <td>59</td>\n",
       "      <td>576</td>\n",
       "      <td>...</td>\n",
       "      <td>4</td>\n",
       "      <td>9</td>\n",
       "      <td>6</td>\n",
       "      <td>0</td>\n",
       "      <td>1</td>\n",
       "      <td>0</td>\n",
       "      <td>0</td>\n",
       "      <td>0</td>\n",
       "      <td>0</td>\n",
       "      <td>0</td>\n",
       "    </tr>\n",
       "    <tr>\n",
       "      <th>1757</th>\n",
       "      <td>3524</td>\n",
       "      <td>1971</td>\n",
       "      <td>Master</td>\n",
       "      <td>Single</td>\n",
       "      <td>39763.0</td>\n",
       "      <td>1</td>\n",
       "      <td>0</td>\n",
       "      <td>04-08-2013</td>\n",
       "      <td>9</td>\n",
       "      <td>80</td>\n",
       "      <td>...</td>\n",
       "      <td>1</td>\n",
       "      <td>2</td>\n",
       "      <td>9</td>\n",
       "      <td>0</td>\n",
       "      <td>0</td>\n",
       "      <td>0</td>\n",
       "      <td>0</td>\n",
       "      <td>0</td>\n",
       "      <td>0</td>\n",
       "      <td>1</td>\n",
       "    </tr>\n",
       "    <tr>\n",
       "      <th>463</th>\n",
       "      <td>7059</td>\n",
       "      <td>1963</td>\n",
       "      <td>Graduation</td>\n",
       "      <td>Married</td>\n",
       "      <td>80124.0</td>\n",
       "      <td>0</td>\n",
       "      <td>0</td>\n",
       "      <td>26-06-2014</td>\n",
       "      <td>47</td>\n",
       "      <td>483</td>\n",
       "      <td>...</td>\n",
       "      <td>7</td>\n",
       "      <td>8</td>\n",
       "      <td>1</td>\n",
       "      <td>1</td>\n",
       "      <td>0</td>\n",
       "      <td>0</td>\n",
       "      <td>0</td>\n",
       "      <td>0</td>\n",
       "      <td>0</td>\n",
       "      <td>0</td>\n",
       "    </tr>\n",
       "    <tr>\n",
       "      <th>1271</th>\n",
       "      <td>7488</td>\n",
       "      <td>1963</td>\n",
       "      <td>Master</td>\n",
       "      <td>Single</td>\n",
       "      <td>64191.0</td>\n",
       "      <td>0</td>\n",
       "      <td>1</td>\n",
       "      <td>22-01-2013</td>\n",
       "      <td>30</td>\n",
       "      <td>420</td>\n",
       "      <td>...</td>\n",
       "      <td>3</td>\n",
       "      <td>13</td>\n",
       "      <td>3</td>\n",
       "      <td>0</td>\n",
       "      <td>0</td>\n",
       "      <td>0</td>\n",
       "      <td>0</td>\n",
       "      <td>0</td>\n",
       "      <td>0</td>\n",
       "      <td>0</td>\n",
       "    </tr>\n",
       "    <tr>\n",
       "      <th>408</th>\n",
       "      <td>5049</td>\n",
       "      <td>1974</td>\n",
       "      <td>PhD</td>\n",
       "      <td>Together</td>\n",
       "      <td>30351.0</td>\n",
       "      <td>1</td>\n",
       "      <td>0</td>\n",
       "      <td>06-06-2013</td>\n",
       "      <td>19</td>\n",
       "      <td>14</td>\n",
       "      <td>...</td>\n",
       "      <td>0</td>\n",
       "      <td>2</td>\n",
       "      <td>9</td>\n",
       "      <td>0</td>\n",
       "      <td>0</td>\n",
       "      <td>0</td>\n",
       "      <td>0</td>\n",
       "      <td>0</td>\n",
       "      <td>0</td>\n",
       "      <td>0</td>\n",
       "    </tr>\n",
       "    <tr>\n",
       "      <th>956</th>\n",
       "      <td>5748</td>\n",
       "      <td>1965</td>\n",
       "      <td>Graduation</td>\n",
       "      <td>Married</td>\n",
       "      <td>59754.0</td>\n",
       "      <td>0</td>\n",
       "      <td>1</td>\n",
       "      <td>01-12-2012</td>\n",
       "      <td>96</td>\n",
       "      <td>115</td>\n",
       "      <td>...</td>\n",
       "      <td>2</td>\n",
       "      <td>6</td>\n",
       "      <td>5</td>\n",
       "      <td>0</td>\n",
       "      <td>0</td>\n",
       "      <td>0</td>\n",
       "      <td>0</td>\n",
       "      <td>0</td>\n",
       "      <td>0</td>\n",
       "      <td>1</td>\n",
       "    </tr>\n",
       "  </tbody>\n",
       "</table>\n",
       "<p>10 rows × 26 columns</p>\n",
       "</div>"
      ],
      "text/plain": [
       "        ID  Year_Birth   Education Marital_Status   Income  Kidhome  Teenhome  \\\n",
       "1317  4937        1973    2n Cycle        Married  46094.0        1         1   \n",
       "1175  1604        1960      Master        Married  47353.0        0         1   \n",
       "1451  6652        1965  Graduation        Married  77343.0        0         0   \n",
       "1010  5236        1979  Graduation       Together  77568.0        0         1   \n",
       "2158  5186        1955         PhD        Married  58482.0        0         1   \n",
       "1757  3524        1971      Master         Single  39763.0        1         0   \n",
       "463   7059        1963  Graduation        Married  80124.0        0         0   \n",
       "1271  7488        1963      Master         Single  64191.0        0         1   \n",
       "408   5049        1974         PhD       Together  30351.0        1         0   \n",
       "956   5748        1965  Graduation        Married  59754.0        0         1   \n",
       "\n",
       "     Dt_Customer  Recency  MntWines  ...  NumCatalogPurchases  \\\n",
       "1317  10-06-2014       62        12  ...                    0   \n",
       "1175  13-11-2013       93       184  ...                    2   \n",
       "1451  09-06-2014       28       227  ...                    4   \n",
       "1010  25-08-2012       30      1230  ...                    2   \n",
       "2158  12-03-2014       59       576  ...                    4   \n",
       "1757  04-08-2013        9        80  ...                    1   \n",
       "463   26-06-2014       47       483  ...                    7   \n",
       "1271  22-01-2013       30       420  ...                    3   \n",
       "408   06-06-2013       19        14  ...                    0   \n",
       "956   01-12-2012       96       115  ...                    2   \n",
       "\n",
       "      NumStorePurchases  NumWebVisitsMonth  AcceptedCmp3  AcceptedCmp4  \\\n",
       "1317                  3                  7             0             0   \n",
       "1175                  6                  5             0             0   \n",
       "1451                  9                  1             0             0   \n",
       "1010                  8                  5             0             1   \n",
       "2158                  9                  6             0             1   \n",
       "1757                  2                  9             0             0   \n",
       "463                   8                  1             1             0   \n",
       "1271                 13                  3             0             0   \n",
       "408                   2                  9             0             0   \n",
       "956                   6                  5             0             0   \n",
       "\n",
       "      AcceptedCmp5  AcceptedCmp1  AcceptedCmp2  Complain  Response  \n",
       "1317             0             0             0         0         0  \n",
       "1175             0             0             0         0         0  \n",
       "1451             0             0             0         0         0  \n",
       "1010             1             1             0         0         0  \n",
       "2158             0             0             0         0         0  \n",
       "1757             0             0             0         0         1  \n",
       "463              0             0             0         0         0  \n",
       "1271             0             0             0         0         0  \n",
       "408              0             0             0         0         0  \n",
       "956              0             0             0         0         1  \n",
       "\n",
       "[10 rows x 26 columns]"
      ]
     },
     "execution_count": 88,
     "metadata": {},
     "output_type": "execute_result"
    }
   ],
   "source": [
    "sample_stats_df.head(10)"
   ]
  },
  {
   "cell_type": "markdown",
   "id": "2b146922",
   "metadata": {},
   "source": [
    "### Education"
   ]
  },
  {
   "cell_type": "markdown",
   "id": "576c9973",
   "metadata": {},
   "source": [
    "\n",
    "Categorizes people by their educational attainment\n"
   ]
  },
  {
   "cell_type": "code",
   "execution_count": 51,
   "id": "fb555c8a-2aa6-4c90-b130-6f94c5de65bb",
   "metadata": {},
   "outputs": [
    {
     "data": {
      "text/plain": [
       "Education\n",
       "2n Cycle       7\n",
       "Basic          5\n",
       "Graduation    49\n",
       "Master        15\n",
       "PhD           24\n",
       "Name: ID, dtype: int64"
      ]
     },
     "execution_count": 51,
     "metadata": {},
     "output_type": "execute_result"
    }
   ],
   "source": [
    "edu_group_count = sample_stats_df.groupby([\"Education\"])['ID'].count()\n",
    "edu_group_count"
   ]
  },
  {
   "cell_type": "code",
   "execution_count": 50,
   "id": "89bff29f-3e58-4e04-a482-722974365f21",
   "metadata": {
    "scrolled": true
   },
   "outputs": [
    {
     "data": {
      "image/png": "[encoded data removed]",
      "text/plain": [
       "<Figure size 360x360 with 1 Axes>"
      ]
     },
     "metadata": {},
     "output_type": "display_data"
    }
   ],
   "source": [
    "sns.set_theme(style=\"whitegrid\")\n",
    "\n",
    "edu_plot = sns.catplot(x=\"Education\", kind=\"count\", order=['PhD', 'Graduation', 'Master', '2n Cycle', 'Basic'], data=sample_stats_df)"
   ]
  },
  {
   "cell_type": "markdown",
   "id": "70f6c96e",
   "metadata": {},
   "source": [
    "Computes for average income per educational attainment type"
   ]
  },
  {
   "cell_type": "code",
   "execution_count": 52,
   "id": "9a1cb940-5b8f-40f4-bd5b-a94f1777b795",
   "metadata": {},
   "outputs": [
    {
     "data": {
      "text/plain": [
       "Education\n",
       "2n Cycle      61259.714286\n",
       "Basic         26659.600000\n",
       "Graduation    62142.122449\n",
       "Master        49447.333333\n",
       "PhD           52871.291667\n",
       "Name: Income, dtype: float64"
      ]
     },
     "execution_count": 52,
     "metadata": {},
     "output_type": "execute_result"
    }
   ],
   "source": [
    "edu_income_df=sample_stats_df.groupby([\"Education\"])[\"Income\"].mean()\n",
    "edu_income_df"
   ]
  },
  {
   "cell_type": "markdown",
   "id": "1910667f",
   "metadata": {},
   "source": [
    "### Marital Status\n",
    "\n",
    "Checks for inconsistencies in `Marital_Status`"
   ]
  },
  {
   "cell_type": "code",
   "execution_count": 55,
   "id": "aea5317b-f88d-4ca8-b14b-8ad84165896c",
   "metadata": {},
   "outputs": [
    {
     "data": {
      "image/png": "[encoded data removed]",
      "text/plain": [
       "<Figure size 360x360 with 1 Axes>"
      ]
     },
     "metadata": {},
     "output_type": "display_data"
    }
   ],
   "source": [
    "sns.set_theme(style=\"whitegrid\")\n",
    "\n",
    "edu_plot = sns.catplot(x=\"Marital_Status\", kind=\"count\", order=['Single', 'Divorced', 'Together', 'Married', 'Widow'], data=sample_stats_df)"
   ]
  },
  {
   "cell_type": "markdown",
   "id": "ae2d67f9",
   "metadata": {},
   "source": [
    "Computes for average income per marital status type"
   ]
  },
  {
   "cell_type": "code",
   "execution_count": 56,
   "id": "5610ab50-846f-491a-8cec-baeda1ef8e85",
   "metadata": {},
   "outputs": [
    {
     "data": {
      "text/html": [
       "<div>\n",
       "<style scoped>\n",
       "    .dataframe tbody tr th:only-of-type {\n",
       "        vertical-align: middle;\n",
       "    }\n",
       "\n",
       "    .dataframe tbody tr th {\n",
       "        vertical-align: top;\n",
       "    }\n",
       "\n",
       "    .dataframe thead th {\n",
       "        text-align: right;\n",
       "    }\n",
       "</style>\n",
       "<table border=\"1\" class=\"dataframe\">\n",
       "  <thead>\n",
       "    <tr style=\"text-align: right;\">\n",
       "      <th></th>\n",
       "      <th>ave_income</th>\n",
       "      <th>total_indv</th>\n",
       "    </tr>\n",
       "    <tr>\n",
       "      <th>Marital_Status</th>\n",
       "      <th></th>\n",
       "      <th></th>\n",
       "    </tr>\n",
       "  </thead>\n",
       "  <tbody>\n",
       "    <tr>\n",
       "      <th>Divorced</th>\n",
       "      <td>75658.000000</td>\n",
       "      <td>10</td>\n",
       "    </tr>\n",
       "    <tr>\n",
       "      <th>Married</th>\n",
       "      <td>55368.613636</td>\n",
       "      <td>44</td>\n",
       "    </tr>\n",
       "    <tr>\n",
       "      <th>Single</th>\n",
       "      <td>53983.937500</td>\n",
       "      <td>16</td>\n",
       "    </tr>\n",
       "    <tr>\n",
       "      <th>Together</th>\n",
       "      <td>53173.461538</td>\n",
       "      <td>26</td>\n",
       "    </tr>\n",
       "    <tr>\n",
       "      <th>Widow</th>\n",
       "      <td>44662.250000</td>\n",
       "      <td>4</td>\n",
       "    </tr>\n",
       "  </tbody>\n",
       "</table>\n",
       "</div>"
      ],
      "text/plain": [
       "                  ave_income  total_indv\n",
       "Marital_Status                          \n",
       "Divorced        75658.000000          10\n",
       "Married         55368.613636          44\n",
       "Single          53983.937500          16\n",
       "Together        53173.461538          26\n",
       "Widow           44662.250000           4"
      ]
     },
     "execution_count": 56,
     "metadata": {},
     "output_type": "execute_result"
    }
   ],
   "source": [
    "ms_income_df=sample_stats_df.groupby([\"Marital_Status\"])[\"Income\"].agg(['mean', 'count'])\n",
    "ms_income_df=ms_income_df.rename(columns={\"mean\": \"ave_income\", \"count\": \"total_indv\"}, errors=\"raise\")\n",
    "ms_income_df"
   ]
  },
  {
   "cell_type": "markdown",
   "id": "4999c362",
   "metadata": {},
   "source": [
    "## Expenses\n",
    "Combines fields related to expenses on food"
   ]
  },
  {
   "cell_type": "code",
   "execution_count": 91,
   "id": "3b8a2369-c9b3-4d1f-b38b-03533ab26293",
   "metadata": {
    "scrolled": true
   },
   "outputs": [
    {
     "data": {
      "text/html": [
       "<div>\n",
       "<style scoped>\n",
       "    .dataframe tbody tr th:only-of-type {\n",
       "        vertical-align: middle;\n",
       "    }\n",
       "\n",
       "    .dataframe tbody tr th {\n",
       "        vertical-align: top;\n",
       "    }\n",
       "\n",
       "    .dataframe thead th {\n",
       "        text-align: right;\n",
       "    }\n",
       "</style>\n",
       "<table border=\"1\" class=\"dataframe\">\n",
       "  <thead>\n",
       "    <tr style=\"text-align: right;\">\n",
       "      <th></th>\n",
       "      <th>MntWines</th>\n",
       "      <th>MntFruits</th>\n",
       "      <th>MntMeatProducts</th>\n",
       "      <th>MntFishProducts</th>\n",
       "      <th>MntSweetProducts</th>\n",
       "      <th>Total_Exp</th>\n",
       "    </tr>\n",
       "  </thead>\n",
       "  <tbody>\n",
       "    <tr>\n",
       "      <th>1317</th>\n",
       "      <td>12</td>\n",
       "      <td>2</td>\n",
       "      <td>20</td>\n",
       "      <td>3</td>\n",
       "      <td>2</td>\n",
       "      <td>39</td>\n",
       "    </tr>\n",
       "    <tr>\n",
       "      <th>1175</th>\n",
       "      <td>184</td>\n",
       "      <td>2</td>\n",
       "      <td>19</td>\n",
       "      <td>8</td>\n",
       "      <td>8</td>\n",
       "      <td>221</td>\n",
       "    </tr>\n",
       "    <tr>\n",
       "      <th>1451</th>\n",
       "      <td>227</td>\n",
       "      <td>151</td>\n",
       "      <td>573</td>\n",
       "      <td>98</td>\n",
       "      <td>54</td>\n",
       "      <td>1103</td>\n",
       "    </tr>\n",
       "    <tr>\n",
       "      <th>1010</th>\n",
       "      <td>1230</td>\n",
       "      <td>0</td>\n",
       "      <td>396</td>\n",
       "      <td>232</td>\n",
       "      <td>178</td>\n",
       "      <td>2036</td>\n",
       "    </tr>\n",
       "    <tr>\n",
       "      <th>2158</th>\n",
       "      <td>576</td>\n",
       "      <td>7</td>\n",
       "      <td>115</td>\n",
       "      <td>19</td>\n",
       "      <td>7</td>\n",
       "      <td>724</td>\n",
       "    </tr>\n",
       "    <tr>\n",
       "      <th>...</th>\n",
       "      <td>...</td>\n",
       "      <td>...</td>\n",
       "      <td>...</td>\n",
       "      <td>...</td>\n",
       "      <td>...</td>\n",
       "      <td>...</td>\n",
       "    </tr>\n",
       "    <tr>\n",
       "      <th>2009</th>\n",
       "      <td>561</td>\n",
       "      <td>14</td>\n",
       "      <td>113</td>\n",
       "      <td>10</td>\n",
       "      <td>14</td>\n",
       "      <td>712</td>\n",
       "    </tr>\n",
       "    <tr>\n",
       "      <th>1899</th>\n",
       "      <td>378</td>\n",
       "      <td>14</td>\n",
       "      <td>68</td>\n",
       "      <td>19</td>\n",
       "      <td>14</td>\n",
       "      <td>493</td>\n",
       "    </tr>\n",
       "    <tr>\n",
       "      <th>603</th>\n",
       "      <td>410</td>\n",
       "      <td>16</td>\n",
       "      <td>114</td>\n",
       "      <td>0</td>\n",
       "      <td>5</td>\n",
       "      <td>545</td>\n",
       "    </tr>\n",
       "    <tr>\n",
       "      <th>197</th>\n",
       "      <td>519</td>\n",
       "      <td>17</td>\n",
       "      <td>813</td>\n",
       "      <td>27</td>\n",
       "      <td>173</td>\n",
       "      <td>1549</td>\n",
       "    </tr>\n",
       "    <tr>\n",
       "      <th>162</th>\n",
       "      <td>53</td>\n",
       "      <td>3</td>\n",
       "      <td>49</td>\n",
       "      <td>7</td>\n",
       "      <td>4</td>\n",
       "      <td>116</td>\n",
       "    </tr>\n",
       "  </tbody>\n",
       "</table>\n",
       "<p>100 rows × 6 columns</p>\n",
       "</div>"
      ],
      "text/plain": [
       "      MntWines  MntFruits  MntMeatProducts  MntFishProducts  MntSweetProducts  \\\n",
       "1317        12          2               20                3                 2   \n",
       "1175       184          2               19                8                 8   \n",
       "1451       227        151              573               98                54   \n",
       "1010      1230          0              396              232               178   \n",
       "2158       576          7              115               19                 7   \n",
       "...        ...        ...              ...              ...               ...   \n",
       "2009       561         14              113               10                14   \n",
       "1899       378         14               68               19                14   \n",
       "603        410         16              114                0                 5   \n",
       "197        519         17              813               27               173   \n",
       "162         53          3               49                7                 4   \n",
       "\n",
       "      Total_Exp  \n",
       "1317         39  \n",
       "1175        221  \n",
       "1451       1103  \n",
       "1010       2036  \n",
       "2158        724  \n",
       "...         ...  \n",
       "2009        712  \n",
       "1899        493  \n",
       "603         545  \n",
       "197        1549  \n",
       "162         116  \n",
       "\n",
       "[100 rows x 6 columns]"
      ]
     },
     "execution_count": 91,
     "metadata": {},
     "output_type": "execute_result"
    }
   ],
   "source": [
    "sample_stats_df[\"Total_Exp\"] = sample_stats_df['MntWines'] + sample_stats_df['MntFruits'] + sample_stats_df['MntMeatProducts'] + sample_stats_df['MntFishProducts'] + sample_stats_df['MntSweetProducts']\n",
    "sample_stats_df[[\"MntWines\",\"MntFruits\",\"MntMeatProducts\",\"MntFishProducts\", \"MntSweetProducts\", \"Total_Exp\"]]"
   ]
  },
  {
   "cell_type": "markdown",
   "id": "13d29128",
   "metadata": {},
   "source": [
    "## Children \n",
    "Combines fields to get the number of children a customer has\n"
   ]
  },
  {
   "cell_type": "code",
   "execution_count": 7,
   "id": "2af321aa-8e78-49ed-b231-f30b56f3e600",
   "metadata": {},
   "outputs": [
    {
     "data": {
      "text/plain": [
       "Total_Children\n",
       "0    29\n",
       "1    56\n",
       "2    15\n",
       "Name: ID, dtype: int64"
      ]
     },
     "execution_count": 7,
     "metadata": {},
     "output_type": "execute_result"
    }
   ],
   "source": [
    "sample_stats_df[\"Total_Children\"] = sample_stats_df[\"Kidhome\"] + sample_stats_df[\"Teenhome\"]\n",
    "Children_group_count = sample_stats_df.groupby([\"Total_Children\"])['ID'].count()\n",
    "Children_group_count"
   ]
  },
  {
   "cell_type": "code",
   "execution_count": 8,
   "id": "9a8a9cbd-50b0-4214-848a-c5d4b2d35273",
   "metadata": {},
   "outputs": [
    {
     "data": {
      "text/plain": [
       "array([2, 1, 0], dtype=int64)"
      ]
     },
     "execution_count": 8,
     "metadata": {},
     "output_type": "execute_result"
    }
   ],
   "source": [
    "sample_stats_df[\"Total_Children\"].unique()"
   ]
  },
  {
   "cell_type": "code",
   "execution_count": 11,
   "id": "4da8e341-2278-475d-be5c-16f84ca12799",
   "metadata": {},
   "outputs": [
    {
     "data": {
      "image/png": "[encoded data removed]",
      "text/plain": [
       "<Figure size 360x360 with 1 Axes>"
      ]
     },
     "metadata": {},
     "output_type": "display_data"
    }
   ],
   "source": [
    "sns.set_theme(style=\"whitegrid\")\n",
    "\n",
    "edu_plot = sns.catplot(x=\"Total_Children\", kind=\"count\", order=[2,1,0], data=sample_stats_df)"
   ]
  },
  {
   "cell_type": "markdown",
   "id": "9676cf70",
   "metadata": {},
   "source": [
    "## Campaigns\n",
    "Shows number of campaigns attended by a customer"
   ]
  },
  {
   "cell_type": "code",
   "execution_count": 134,
   "id": "ae27778d",
   "metadata": {},
   "outputs": [
    {
     "data": {
      "text/plain": [
       "array([1, 0, 2, 3, 4], dtype=int64)"
      ]
     },
     "execution_count": 134,
     "metadata": {},
     "output_type": "execute_result"
    }
   ],
   "source": [
    "sample_stats_df[\"Total_Cam\"] = sample_stats_df[\"AcceptedCmp3\"] + sample_stats_df[\"AcceptedCmp4\"] + sample_stats_df[\"AcceptedCmp5\"] + sample_stats_df[\"AcceptedCmp1\"] + sample_stats_df[\"AcceptedCmp2\"] + sample_stats_df[\"Response\"]\n",
    "sample_stats_df[\"Total_Cam\"].unique()"
   ]
  },
  {
   "cell_type": "code",
   "execution_count": 135,
   "id": "68f29f41",
   "metadata": {},
   "outputs": [
    {
     "data": {
      "image/png": "[encoded data removed]",
      "text/plain": [
       "<Figure size 360x360 with 1 Axes>"
      ]
     },
     "metadata": {},
     "output_type": "display_data"
    }
   ],
   "source": [
    "edu_plot = sns.catplot(x=\"Total_Cam\", kind=\"count\", order=[5,4,3,2,1,0], data=sample_stats_df)"
   ]
  },
  {
   "cell_type": "markdown",
   "id": "a340f025",
   "metadata": {},
   "source": [
    "**Relationship between Number of Children to Total Expenses**"
   ]
  },
  {
   "cell_type": "code",
   "execution_count": 109,
   "id": "e25733c5",
   "metadata": {
    "scrolled": true
   },
   "outputs": [
    {
     "data": {
      "image/png": "[encoded data removed]",
      "text/plain": [
       "<Figure size 360x360 with 1 Axes>"
      ]
     },
     "metadata": {},
     "output_type": "display_data"
    }
   ],
   "source": [
    "sample_stats_df[[\"Total_Cam\", \"Total_Exp\"]]\n",
    "edu_plot = sns.catplot(x=\"Total_Cam\", y=\"Total_Exp\", order=[5,4,3,2,1,0], data=sample_stats_df)"
   ]
  },
  {
   "cell_type": "markdown",
   "id": "d4a192cc",
   "metadata": {},
   "source": [
    "**Relationship between Number of Campaigns Attended to Total Expenses**"
   ]
  },
  {
   "cell_type": "code",
   "execution_count": 107,
   "id": "596e500a",
   "metadata": {},
   "outputs": [
    {
     "data": {
      "image/png": "[encoded data removed]",
      "text/plain": [
       "<Figure size 360x360 with 1 Axes>"
      ]
     },
     "metadata": {},
     "output_type": "display_data"
    }
   ],
   "source": [
    "sample_stats_df[[\"Total_Children\", \"Total_Exp\"]]\n",
    "edu_plot = sns.catplot(x=\"Total_Children\", y=\"Total_Exp\", order=[2,1,0], data=sample_stats_df)"
   ]
  },
  {
   "cell_type": "markdown",
   "id": "db4f9ac0",
   "metadata": {},
   "source": [
    "**Frquency of Online Purchases by PhD Graduates**"
   ]
  },
  {
   "cell_type": "code",
   "execution_count": 110,
   "id": "6bdf7846",
   "metadata": {},
   "outputs": [
    {
     "data": {
      "image/png": "[encoded data removed]",
      "text/plain": [
       "<Figure size 360x360 with 1 Axes>"
      ]
     },
     "metadata": {},
     "output_type": "display_data"
    }
   ],
   "source": [
    "PHD_stats_df=sample_stats_df[sample_stats_df[\"Education\"]== 'PhD']\n",
    "sns.set_theme(style=\"whitegrid\")\n",
    "edu_plot = sns.catplot(x=\"NumWebPurchases\", kind=\"count\", order=[11,10,9,8,7,6,5,4,3,2,1,0] ,data=PHD_stats_df)"
   ]
  },
  {
   "cell_type": "markdown",
   "id": "cec9d65a",
   "metadata": {},
   "source": [
    "**Frequency of Online Purchases by Normal Graduates**"
   ]
  },
  {
   "cell_type": "code",
   "execution_count": 112,
   "id": "b1290626",
   "metadata": {},
   "outputs": [
    {
     "data": {
      "image/png": "[encoded data removed]",
      "text/plain": [
       "<Figure size 360x360 with 1 Axes>"
      ]
     },
     "metadata": {},
     "output_type": "display_data"
    }
   ],
   "source": [
    "Grad_stats_df=sample_stats_df[sample_stats_df[\"Education\"]== 'Graduation']\n",
    "sns.set_theme(style=\"whitegrid\")\n",
    "edu_plot = sns.catplot(x=\"NumWebPurchases\", kind=\"count\", order=[11,10,9,8,7,6,5,4,3,2,1,0] ,data=Grad_stats_df)"
   ]
  },
  {
   "cell_type": "markdown",
   "id": "a94b63b9-5228-4a67-9d1e-c43d142f7c85",
   "metadata": {},
   "source": [
    "## Research Question\n",
    "\n",
    "1. Does the number of campaigns attended affect the amount spent on grocery products?\n",
    "2. \n",
    "3. Is there a significant difference between the number of web purchases done by PhD and Normal Graduates?"
   ]
  },
  {
   "cell_type": "markdown",
   "id": "a7d9c6ad-f7c0-436c-bb1e-9dda72c8c9ed",
   "metadata": {},
   "source": [
    "## Statistical Inference"
   ]
  },
  {
   "cell_type": "markdown",
   "id": "72747adf",
   "metadata": {},
   "source": [
    "#### Research Question 3\n",
    "**H0**: There is no significant difference between the number of web purchases made by PhD and Normal Graduates.       \n",
    "**Ha**: There is a significant difference between the number of web purchases made by PhD and Normal Graduates."
   ]
  },
  {
   "cell_type": "code",
   "execution_count": 123,
   "id": "8e7d2f61",
   "metadata": {
    "scrolled": true
   },
   "outputs": [
    {
     "data": {
      "text/html": [
       "<div>\n",
       "<style scoped>\n",
       "    .dataframe tbody tr th:only-of-type {\n",
       "        vertical-align: middle;\n",
       "    }\n",
       "\n",
       "    .dataframe tbody tr th {\n",
       "        vertical-align: top;\n",
       "    }\n",
       "\n",
       "    .dataframe thead th {\n",
       "        text-align: right;\n",
       "    }\n",
       "</style>\n",
       "<table border=\"1\" class=\"dataframe\">\n",
       "  <thead>\n",
       "    <tr style=\"text-align: right;\">\n",
       "      <th></th>\n",
       "      <th>PhD</th>\n",
       "      <th>Grad</th>\n",
       "    </tr>\n",
       "    <tr>\n",
       "      <th>NumWebPurchases</th>\n",
       "      <th></th>\n",
       "      <th></th>\n",
       "    </tr>\n",
       "  </thead>\n",
       "  <tbody>\n",
       "    <tr>\n",
       "      <th>1</th>\n",
       "      <td>2</td>\n",
       "      <td>2</td>\n",
       "    </tr>\n",
       "    <tr>\n",
       "      <th>2</th>\n",
       "      <td>2</td>\n",
       "      <td>2</td>\n",
       "    </tr>\n",
       "    <tr>\n",
       "      <th>3</th>\n",
       "      <td>5</td>\n",
       "      <td>11</td>\n",
       "    </tr>\n",
       "    <tr>\n",
       "      <th>4</th>\n",
       "      <td>5</td>\n",
       "      <td>8</td>\n",
       "    </tr>\n",
       "    <tr>\n",
       "      <th>5</th>\n",
       "      <td>2</td>\n",
       "      <td>5</td>\n",
       "    </tr>\n",
       "    <tr>\n",
       "      <th>6</th>\n",
       "      <td>1</td>\n",
       "      <td>4</td>\n",
       "    </tr>\n",
       "    <tr>\n",
       "      <th>7</th>\n",
       "      <td>4</td>\n",
       "      <td>7</td>\n",
       "    </tr>\n",
       "    <tr>\n",
       "      <th>8</th>\n",
       "      <td>1</td>\n",
       "      <td>4</td>\n",
       "    </tr>\n",
       "    <tr>\n",
       "      <th>9</th>\n",
       "      <td>1</td>\n",
       "      <td>3</td>\n",
       "    </tr>\n",
       "    <tr>\n",
       "      <th>10</th>\n",
       "      <td>1</td>\n",
       "      <td>2</td>\n",
       "    </tr>\n",
       "  </tbody>\n",
       "</table>\n",
       "</div>"
      ],
      "text/plain": [
       "                 PhD  Grad\n",
       "NumWebPurchases           \n",
       "1                  2     2\n",
       "2                  2     2\n",
       "3                  5    11\n",
       "4                  5     8\n",
       "5                  2     5\n",
       "6                  1     4\n",
       "7                  4     7\n",
       "8                  1     4\n",
       "9                  1     3\n",
       "10                 1     2"
      ]
     },
     "execution_count": 123,
     "metadata": {},
     "output_type": "execute_result"
    }
   ],
   "source": [
    "count_df= PHD_stats_df.groupby(['NumWebPurchases', 'Education'])['ID'].count() \n",
    "count_df1= Grad_stats_df.groupby(['NumWebPurchases', 'Education'])['ID'].count() \n",
    "\n",
    "Mix_df=pd.merge(count_df, count_df1, on=[\"NumWebPurchases\"])\n",
    "Mix_df.columns=[\"PhD\", \"Grad\"]\n",
    "Mix_df"
   ]
  },
  {
   "cell_type": "markdown",
   "id": "ce957064",
   "metadata": {},
   "source": [
    "Get p value via Chi-square test."
   ]
  },
  {
   "cell_type": "code",
   "execution_count": 139,
   "id": "9c5ce2c0",
   "metadata": {},
   "outputs": [
    {
     "name": "stdout",
     "output_type": "stream",
     "text": [
      "0.9873486816090047\n",
      "Significance: p>0.05\n"
     ]
    }
   ],
   "source": [
    "g, p, dof, expctd=chi2_contingency(Mix_df)\n",
    "print(p)\n",
    "print (\"Significance: p>0.05\")"
   ]
  },
  {
   "cell_type": "code",
   "execution_count": null,
   "id": "4f012859",
   "metadata": {},
   "outputs": [],
   "source": []
  },
  {
   "cell_type": "markdown",
   "id": "46bd280e-ea3e-48a3-bbb3-619bb3e7293f",
   "metadata": {},
   "source": [
    "## Insights and Conclusions\n"
   ]
  },
  {
   "cell_type": "markdown",
   "id": "7d399f49",
   "metadata": {},
   "source": [
    "For research question 3\n",
    "Based on the p-value outcome, there is a significant difference between web purchases made by PhD and Normal Graduates."
   ]
  }
 ],
 "metadata": {
  "kernelspec": {
   "display_name": "Python 3 (ipykernel)",
   "language": "python",
   "name": "python3"
  },
  "language_info": {
   "codemirror_mode": {
    "name": "ipython",
    "version": 3
   },
   "file_extension": ".py",
   "mimetype": "text/x-python",
   "name": "python",
   "nbconvert_exporter": "python",
   "pygments_lexer": "ipython3",
   "version": "3.9.7"
  }
 },
 "nbformat": 4,
 "nbformat_minor": 5
}
