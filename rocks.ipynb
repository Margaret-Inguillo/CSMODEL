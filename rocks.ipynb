{
 "cells": [
  {
   "cell_type": "code",
   "execution_count": 2,
   "id": "be0e535d",
   "metadata": {},
   "outputs": [],
   "source": [
    "import pandas as pd"
   ]
  },
  {
   "cell_type": "code",
   "execution_count": 3,
   "id": "e55aece5",
   "metadata": {},
   "outputs": [
    {
     "name": "stderr",
     "output_type": "stream",
     "text": [
      "C:\\Users\\GIGABYTE\\anaconda3\\lib\\site-packages\\IPython\\core\\interactiveshell.py:3165: DtypeWarning: Columns (13,19) have mixed types.Specify dtype option on import or set low_memory=False.\n",
      "  has_raised = await self.run_ast_nodes(code_ast.body, cell_name,\n"
     ]
    }
   ],
   "source": [
    "rock_df = pd.read_csv(\"Mineral ores round the world.csv\")"
   ]
  },
  {
   "cell_type": "code",
   "execution_count": 5,
   "id": "02593c6c",
   "metadata": {},
   "outputs": [
    {
     "name": "stdout",
     "output_type": "stream",
     "text": [
      "<class 'pandas.core.frame.DataFrame'>\n",
      "RangeIndex: 304632 entries, 0 to 304631\n",
      "Data columns (total 22 columns):\n",
      " #   Column      Non-Null Count   Dtype  \n",
      "---  ------      --------------   -----  \n",
      " 0   site_name   304621 non-null  object \n",
      " 1   latitude    304613 non-null  float64\n",
      " 2   longitude   304613 non-null  float64\n",
      " 3   region      31179 non-null   object \n",
      " 4   country     304617 non-null  object \n",
      " 5   state       292148 non-null  object \n",
      " 6   county      252873 non-null  object \n",
      " 7   com_type    300815 non-null  object \n",
      " 8   commod1     283601 non-null  object \n",
      " 9   commod2     21632 non-null   object \n",
      " 10  commod3     63139 non-null   object \n",
      " 11  oper_type   304632 non-null  object \n",
      " 12  dep_type    37483 non-null   object \n",
      " 13  prod_size   108352 non-null  object \n",
      " 14  dev_stat    304632 non-null  object \n",
      " 15  ore         70558 non-null   object \n",
      " 16  gangue      33008 non-null   object \n",
      " 17  work_type   25600 non-null   object \n",
      " 18  names       65340 non-null   object \n",
      " 19  ore_ctrl    23922 non-null   object \n",
      " 20  hrock_type  69529 non-null   object \n",
      " 21  arock_type  25658 non-null   object \n",
      "dtypes: float64(2), object(20)\n",
      "memory usage: 51.1+ MB\n"
     ]
    }
   ],
   "source": [
    "rock_df.info()"
   ]
  },
  {
   "cell_type": "markdown",
   "id": "d5760b3d",
   "metadata": {},
   "source": [
    "This dataset has 22 variables and 304632 total observation. Each observation contains site where the mineral was taken, latitude, longtitude, region it was from, country it was from, state if applicable, county if applicable, com type , commods, oper type, dep type, prod type, dev stat, type of ore, gangue, work type, names, ore control(?), hrock type and arock type"
   ]
  },
  {
   "cell_type": "markdown",
   "id": "e3fe9fbe",
   "metadata": {},
   "source": [
    "This dataset contains x columns and x rows. "
   ]
  }
 ],
 "metadata": {
  "kernelspec": {
   "display_name": "Python 3",
   "language": "python",
   "name": "python3"
  },
  "language_info": {
   "codemirror_mode": {
    "name": "ipython",
    "version": 3
   },
   "file_extension": ".py",
   "mimetype": "text/x-python",
   "name": "python",
   "nbconvert_exporter": "python",
   "pygments_lexer": "ipython3",
   "version": "3.8.8"
  }
 },
 "nbformat": 4,
 "nbformat_minor": 5
}
